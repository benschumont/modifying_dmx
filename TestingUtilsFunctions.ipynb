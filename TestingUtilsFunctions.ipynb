{
 "cells": [
  {
   "cell_type": "code",
   "execution_count": 6,
   "id": "248c16c2-8f68-4493-a581-9804e07d3217",
   "metadata": {},
   "outputs": [
    {
     "name": "stdout",
     "output_type": "stream",
     "text": [
      "INFO: Par file created: 2024-02-13T17:48:03.996959 [pint_pal.timingconfiguration]\n"
     ]
    },
    {
     "name": "stderr",
     "output_type": "stream",
     "text": [
      "\u001b[32m2024-04-03 12:53:51.663\u001b[0m | \u001b[34m\u001b[1mDEBUG   \u001b[0m | \u001b[36mpint.toa\u001b[0m:\u001b[36mapply_clock_corrections\u001b[0m:\u001b[36m2200\u001b[0m - \u001b[34m\u001b[1mApplying clock corrections (include_gps = True, include_bipm = True)\u001b[0m\n",
      "\u001b[32m2024-04-03 12:53:51.886\u001b[0m | \u001b[1mINFO    \u001b[0m | \u001b[36mpint.observatory\u001b[0m:\u001b[36mgps_correction\u001b[0m:\u001b[36m210\u001b[0m - \u001b[1mApplying GPS to UTC clock correction (~few nanoseconds)\u001b[0m\n",
      "\u001b[32m2024-04-03 12:53:51.888\u001b[0m | \u001b[1mINFO    \u001b[0m | \u001b[36mpint.observatory\u001b[0m:\u001b[36mbipm_correction\u001b[0m:\u001b[36m217\u001b[0m - \u001b[1mApplying TT(TAI) to TT(BIPM2021) clock correction (~27 us)\u001b[0m\n",
      "\u001b[32m2024-04-03 12:53:51.889\u001b[0m | \u001b[1mINFO    \u001b[0m | \u001b[36mpint.observatory.topo_obs\u001b[0m:\u001b[36mclock_corrections\u001b[0m:\u001b[36m365\u001b[0m - \u001b[1mObservatory chime requires no clock corrections.\u001b[0m\n"
     ]
    },
    {
     "ename": "KeyboardInterrupt",
     "evalue": "",
     "output_type": "error",
     "traceback": [
      "\u001b[0;31m---------------------------------------------------------------------------\u001b[0m",
      "\u001b[0;31mKeyboardInterrupt\u001b[0m                         Traceback (most recent call last)",
      "Cell \u001b[0;32mIn[6], line 17\u001b[0m\n\u001b[1;32m     14\u001b[0m use_toa_pickle \u001b[38;5;241m=\u001b[39m \u001b[38;5;28;01mFalse\u001b[39;00m\n\u001b[1;32m     16\u001b[0m \u001b[38;5;66;03m# Use excise.tim file if it exists, else revert to raw TOAs & initial cuts\u001b[39;00m\n\u001b[0;32m---> 17\u001b[0m mo,to \u001b[38;5;241m=\u001b[39m \u001b[43mtc\u001b[49m\u001b[38;5;241;43m.\u001b[39;49m\u001b[43mget_model_and_toas\u001b[49m\u001b[43m(\u001b[49m\u001b[43mexcised\u001b[49m\u001b[38;5;241;43m=\u001b[39;49m\u001b[38;5;28;43;01mFalse\u001b[39;49;00m\u001b[43m,\u001b[49m\u001b[43musepickle\u001b[49m\u001b[38;5;241;43m=\u001b[39;49m\u001b[43muse_toa_pickle\u001b[49m\u001b[43m)\u001b[49m\n",
      "File \u001b[0;32m~/Desktop/VGRG/pint_pal/src/pint_pal/timingconfiguration.py:132\u001b[0m, in \u001b[0;36mTimingConfiguration.get_model_and_toas\u001b[0;34m(self, usepickle, print_all_ignores, apply_initial_cuts, excised, pout_tim_path, include_pn)\u001b[0m\n\u001b[1;32m    130\u001b[0m picklefilename \u001b[38;5;241m=\u001b[39m os\u001b[38;5;241m.\u001b[39mpath\u001b[38;5;241m.\u001b[39mbasename(\u001b[38;5;28mself\u001b[39m\u001b[38;5;241m.\u001b[39mfilename) \u001b[38;5;241m+\u001b[39m \u001b[38;5;124m\"\u001b[39m\u001b[38;5;124m.pickle.gz\u001b[39m\u001b[38;5;124m\"\u001b[39m\n\u001b[1;32m    131\u001b[0m \u001b[38;5;66;03m# Merge toa_objects (check this works for list of length 1)\u001b[39;00m\n\u001b[0;32m--> 132\u001b[0m t \u001b[38;5;241m=\u001b[39m \u001b[43mtoa\u001b[49m\u001b[38;5;241;43m.\u001b[39;49m\u001b[43mget_TOAs\u001b[49m\u001b[43m(\u001b[49m\u001b[43m[\u001b[49m\u001b[43mos\u001b[49m\u001b[38;5;241;43m.\u001b[39;49m\u001b[43mpath\u001b[49m\u001b[38;5;241;43m.\u001b[39;49m\u001b[43mjoin\u001b[49m\u001b[43m(\u001b[49m\u001b[38;5;28;43mself\u001b[39;49m\u001b[38;5;241;43m.\u001b[39;49m\u001b[43mtim_directory\u001b[49m\u001b[43m,\u001b[49m\u001b[43mt\u001b[49m\u001b[43m)\u001b[49m\u001b[43m \u001b[49m\u001b[38;5;28;43;01mfor\u001b[39;49;00m\u001b[43m \u001b[49m\u001b[43mt\u001b[49m\u001b[43m \u001b[49m\u001b[38;5;129;43;01min\u001b[39;49;00m\u001b[43m \u001b[49m\u001b[43mtoas\u001b[49m\u001b[43m]\u001b[49m\u001b[43m,\u001b[49m\n\u001b[1;32m    133\u001b[0m \u001b[43m                  \u001b[49m\u001b[43musepickle\u001b[49m\u001b[38;5;241;43m=\u001b[39;49m\u001b[43musepickle\u001b[49m\u001b[43m,\u001b[49m\n\u001b[1;32m    134\u001b[0m \u001b[43m                  \u001b[49m\u001b[43mbipm_version\u001b[49m\u001b[38;5;241;43m=\u001b[39;49m\u001b[43mBIPM\u001b[49m\u001b[43m,\u001b[49m\n\u001b[1;32m    135\u001b[0m \u001b[43m                  \u001b[49m\u001b[43mephem\u001b[49m\u001b[38;5;241;43m=\u001b[39;49m\u001b[43mEPHEM\u001b[49m\u001b[43m,\u001b[49m\n\u001b[1;32m    136\u001b[0m \u001b[43m                  \u001b[49m\u001b[43mplanets\u001b[49m\u001b[38;5;241;43m=\u001b[39;49m\u001b[43mPLANET_SHAPIRO\u001b[49m\u001b[43m,\u001b[49m\n\u001b[1;32m    137\u001b[0m \u001b[43m                  \u001b[49m\u001b[43mmodel\u001b[49m\u001b[38;5;241;43m=\u001b[39;49m\u001b[43mm\u001b[49m\u001b[43m,\u001b[49m\n\u001b[1;32m    138\u001b[0m \u001b[43m                  \u001b[49m\u001b[43mpicklefilename\u001b[49m\u001b[38;5;241;43m=\u001b[39;49m\u001b[43mpicklefilename\u001b[49m\u001b[43m,\u001b[49m\n\u001b[1;32m    139\u001b[0m \u001b[43m                  \u001b[49m\u001b[43minclude_pn\u001b[49m\u001b[38;5;241;43m=\u001b[39;49m\u001b[43minclude_pn\u001b[49m\n\u001b[1;32m    140\u001b[0m \u001b[43m                \u001b[49m\u001b[43m)\u001b[49m\n\u001b[1;32m    142\u001b[0m \u001b[38;5;66;03m# if we're dealing with wideband TOAs, each epoch has a single TOA, \u001b[39;00m\n\u001b[1;32m    143\u001b[0m \u001b[38;5;66;03m# so don't bother checking to see if we can reduce entries\u001b[39;00m\n\u001b[1;32m    144\u001b[0m \u001b[38;5;66;03m#if self.get_toa_type() == \"NB\":\u001b[39;00m\n\u001b[1;32m    145\u001b[0m \u001b[38;5;66;03m#    self.check_for_bad_files(t, threshold=0.9, print_all=print_all_ignores)\u001b[39;00m\n\u001b[1;32m    146\u001b[0m \n\u001b[1;32m    147\u001b[0m \u001b[38;5;66;03m# Make a clean copy of original TOAs table (to track cut TOAs, flag_values)\u001b[39;00m\n\u001b[1;32m    148\u001b[0m t\u001b[38;5;241m.\u001b[39mrenumber(index_order\u001b[38;5;241m=\u001b[39m\u001b[38;5;28;01mFalse\u001b[39;00m)  \u001b[38;5;66;03m# Renumber so the index column matches the order of TOAs\u001b[39;00m\n",
      "File \u001b[0;32m~/anaconda3/envs/IPTA_Env-local_pp/lib/python3.9/site-packages/pint/toa.py:291\u001b[0m, in \u001b[0;36mget_TOAs\u001b[0;34m(timfile, ephem, include_bipm, bipm_version, include_gps, planets, include_pn, model, usepickle, tdb_method, picklefilename, limits)\u001b[0m\n\u001b[1;32m    289\u001b[0m         include_bipm \u001b[38;5;241m=\u001b[39m \u001b[38;5;28;01mTrue\u001b[39;00m\n\u001b[1;32m    290\u001b[0m     \u001b[38;5;66;03m# FIXME: should we permit existing clkcorr flags?\u001b[39;00m\n\u001b[0;32m--> 291\u001b[0m     \u001b[43mt\u001b[49m\u001b[38;5;241;43m.\u001b[39;49m\u001b[43mapply_clock_corrections\u001b[49m\u001b[43m(\u001b[49m\n\u001b[1;32m    292\u001b[0m \u001b[43m        \u001b[49m\u001b[43minclude_gps\u001b[49m\u001b[38;5;241;43m=\u001b[39;49m\u001b[43minclude_gps\u001b[49m\u001b[43m,\u001b[49m\n\u001b[1;32m    293\u001b[0m \u001b[43m        \u001b[49m\u001b[43minclude_bipm\u001b[49m\u001b[38;5;241;43m=\u001b[39;49m\u001b[43minclude_bipm\u001b[49m\u001b[43m,\u001b[49m\n\u001b[1;32m    294\u001b[0m \u001b[43m        \u001b[49m\u001b[43mbipm_version\u001b[49m\u001b[38;5;241;43m=\u001b[39;49m\u001b[43mbipm_version\u001b[49m\u001b[43m,\u001b[49m\n\u001b[1;32m    295\u001b[0m \u001b[43m        \u001b[49m\u001b[43mlimits\u001b[49m\u001b[38;5;241;43m=\u001b[39;49m\u001b[43mlimits\u001b[49m\u001b[43m,\u001b[49m\n\u001b[1;32m    296\u001b[0m \u001b[43m    \u001b[49m\u001b[43m)\u001b[49m\n\u001b[1;32m    298\u001b[0m \u001b[38;5;28;01mif\u001b[39;00m ephem \u001b[38;5;129;01mis\u001b[39;00m \u001b[38;5;28;01mNone\u001b[39;00m:\n\u001b[1;32m    299\u001b[0m     ephem \u001b[38;5;241m=\u001b[39m t\u001b[38;5;241m.\u001b[39mephem\n",
      "File \u001b[0;32m~/anaconda3/envs/IPTA_Env-local_pp/lib/python3.9/site-packages/pint/toa.py:2213\u001b[0m, in \u001b[0;36mTOAs.apply_clock_corrections\u001b[0;34m(self, include_bipm, bipm_version, include_gps, limits)\u001b[0m\n\u001b[1;32m   2206\u001b[0m \u001b[38;5;28;01mfor\u001b[39;00m obs, grp \u001b[38;5;129;01min\u001b[39;00m \u001b[38;5;28mself\u001b[39m\u001b[38;5;241m.\u001b[39mget_obs_groups():\n\u001b[1;32m   2207\u001b[0m     site \u001b[38;5;241m=\u001b[39m get_observatory(\n\u001b[1;32m   2208\u001b[0m         obs,\n\u001b[1;32m   2209\u001b[0m         include_gps\u001b[38;5;241m=\u001b[39minclude_gps,\n\u001b[1;32m   2210\u001b[0m         include_bipm\u001b[38;5;241m=\u001b[39minclude_bipm,\n\u001b[1;32m   2211\u001b[0m         bipm_version\u001b[38;5;241m=\u001b[39mbipm_version,\n\u001b[1;32m   2212\u001b[0m     )\n\u001b[0;32m-> 2213\u001b[0m     clock_corrections \u001b[38;5;241m=\u001b[39m \u001b[43msite\u001b[49m\u001b[38;5;241;43m.\u001b[39;49m\u001b[43mclock_corrections\u001b[49m\u001b[43m(\u001b[49m\n\u001b[1;32m   2214\u001b[0m \u001b[43m        \u001b[49m\u001b[43mtime\u001b[49m\u001b[38;5;241;43m.\u001b[39;49m\u001b[43mTime\u001b[49m\u001b[43m(\u001b[49m\u001b[38;5;28;43mself\u001b[39;49m\u001b[43m[\u001b[49m\u001b[38;5;124;43m\"\u001b[39;49m\u001b[38;5;124;43mmjd\u001b[39;49m\u001b[38;5;124;43m\"\u001b[39;49m\u001b[43m]\u001b[49m\u001b[43m[\u001b[49m\u001b[43mgrp\u001b[49m\u001b[43m]\u001b[49m\u001b[43m)\u001b[49m\u001b[43m,\u001b[49m\u001b[43m \u001b[49m\u001b[43mlimits\u001b[49m\u001b[38;5;241;43m=\u001b[39;49m\u001b[43mlimits\u001b[49m\n\u001b[1;32m   2215\u001b[0m \u001b[43m    \u001b[49m\u001b[43m)\u001b[49m\n\u001b[1;32m   2216\u001b[0m     corrections[grp] \u001b[38;5;241m=\u001b[39m time_statements[grp] \u001b[38;5;241m+\u001b[39m clock_corrections\n\u001b[1;32m   2217\u001b[0m     \u001b[38;5;28;01mfor\u001b[39;00m jj \u001b[38;5;129;01min\u001b[39;00m grp:\n",
      "File \u001b[0;32m~/anaconda3/envs/IPTA_Env-local_pp/lib/python3.9/site-packages/pint/observatory/topo_obs.py:347\u001b[0m, in \u001b[0;36mTopoObs.clock_corrections\u001b[0;34m(self, t, limits)\u001b[0m\n\u001b[1;32m    338\u001b[0m \u001b[38;5;28;01mdef\u001b[39;00m \u001b[38;5;21mclock_corrections\u001b[39m(\u001b[38;5;28mself\u001b[39m, t, limits\u001b[38;5;241m=\u001b[39m\u001b[38;5;124m\"\u001b[39m\u001b[38;5;124mwarn\u001b[39m\u001b[38;5;124m\"\u001b[39m):\n\u001b[1;32m    339\u001b[0m \u001b[38;5;250m    \u001b[39m\u001b[38;5;124;03m\"\"\"Compute the total clock corrections,\u001b[39;00m\n\u001b[1;32m    340\u001b[0m \n\u001b[1;32m    341\u001b[0m \u001b[38;5;124;03m    Parameters\u001b[39;00m\n\u001b[0;32m   (...)\u001b[0m\n\u001b[1;32m    344\u001b[0m \u001b[38;5;124;03m        The time when the clock correcions are applied.\u001b[39;00m\n\u001b[1;32m    345\u001b[0m \u001b[38;5;124;03m    \"\"\"\u001b[39;00m\n\u001b[0;32m--> 347\u001b[0m     corr \u001b[38;5;241m=\u001b[39m \u001b[38;5;28;43msuper\u001b[39;49m\u001b[43m(\u001b[49m\u001b[43m)\u001b[49m\u001b[38;5;241;43m.\u001b[39;49m\u001b[43mclock_corrections\u001b[49m\u001b[43m(\u001b[49m\u001b[43mt\u001b[49m\u001b[43m,\u001b[49m\u001b[43m \u001b[49m\u001b[43mlimits\u001b[49m\u001b[38;5;241;43m=\u001b[39;49m\u001b[43mlimits\u001b[49m\u001b[43m)\u001b[49m\n\u001b[1;32m    348\u001b[0m     \u001b[38;5;66;03m# Read clock file if necessary\u001b[39;00m\n\u001b[1;32m    349\u001b[0m     \u001b[38;5;28mself\u001b[39m\u001b[38;5;241m.\u001b[39m_load_clock_corrections()\n",
      "File \u001b[0;32m~/anaconda3/envs/IPTA_Env-local_pp/lib/python3.9/site-packages/pint/observatory/__init__.py:358\u001b[0m, in \u001b[0;36mObservatory.clock_corrections\u001b[0;34m(self, t, limits)\u001b[0m\n\u001b[1;32m    349\u001b[0m \u001b[38;5;250m\u001b[39m\u001b[38;5;124;03m\"\"\"Compute clock corrections for a Time array.\u001b[39;00m\n\u001b[1;32m    350\u001b[0m \n\u001b[1;32m    351\u001b[0m \u001b[38;5;124;03mGiven an array-valued Time, return the clock corrections\u001b[39;00m\n\u001b[1;32m    352\u001b[0m \u001b[38;5;124;03mas a numpy array, with units.  These values are to be added to the\u001b[39;00m\n\u001b[1;32m    353\u001b[0m \u001b[38;5;124;03mraw TOAs in order to refer them to the timescale specified by\u001b[39;00m\n\u001b[1;32m    354\u001b[0m \u001b[38;5;124;03mself.timescale.\"\"\"\u001b[39;00m\n\u001b[1;32m    355\u001b[0m \u001b[38;5;66;03m# TODO this and derived methods should be changed to accept a TOA\u001b[39;00m\n\u001b[1;32m    356\u001b[0m \u001b[38;5;66;03m# table in addition to Time objects.  This will allow access to extra\u001b[39;00m\n\u001b[1;32m    357\u001b[0m \u001b[38;5;66;03m# TOA metadata which may be necessary in some cases.\u001b[39;00m\n\u001b[0;32m--> 358\u001b[0m corr \u001b[38;5;241m=\u001b[39m \u001b[43mnp\u001b[49m\u001b[38;5;241;43m.\u001b[39;49m\u001b[43mzeros_like\u001b[49m\u001b[43m(\u001b[49m\u001b[43mt\u001b[49m\u001b[43m)\u001b[49m \u001b[38;5;241m*\u001b[39m u\u001b[38;5;241m.\u001b[39mus\n\u001b[1;32m    360\u001b[0m \u001b[38;5;28;01mif\u001b[39;00m \u001b[38;5;28mself\u001b[39m\u001b[38;5;241m.\u001b[39minclude_gps:\n\u001b[1;32m    361\u001b[0m     corr \u001b[38;5;241m+\u001b[39m\u001b[38;5;241m=\u001b[39m \u001b[38;5;28mself\u001b[39m\u001b[38;5;241m.\u001b[39mgps_correction(t, limits\u001b[38;5;241m=\u001b[39mlimits)\n",
      "File \u001b[0;32m~/anaconda3/envs/IPTA_Env-local_pp/lib/python3.9/site-packages/astropy/time/core.py:2807\u001b[0m, in \u001b[0;36mTime.__array_function__\u001b[0;34m(self, function, types, args, kwargs)\u001b[0m\n\u001b[1;32m   2805\u001b[0m     \u001b[38;5;28;01mreturn\u001b[39;00m \u001b[38;5;28mNotImplemented\u001b[39m\n\u001b[1;32m   2806\u001b[0m \u001b[38;5;28;01melse\u001b[39;00m:\n\u001b[0;32m-> 2807\u001b[0m     \u001b[38;5;28;01mreturn\u001b[39;00m \u001b[38;5;28;43msuper\u001b[39;49m\u001b[43m(\u001b[49m\u001b[43m)\u001b[49m\u001b[38;5;241;43m.\u001b[39;49m\u001b[43m__array_function__\u001b[49m\u001b[43m(\u001b[49m\u001b[43mfunction\u001b[49m\u001b[43m,\u001b[49m\u001b[43m \u001b[49m\u001b[43mtypes\u001b[49m\u001b[43m,\u001b[49m\u001b[43m \u001b[49m\u001b[43margs\u001b[49m\u001b[43m,\u001b[49m\u001b[43m \u001b[49m\u001b[43mkwargs\u001b[49m\u001b[43m)\u001b[49m\n",
      "File \u001b[0;32m~/anaconda3/envs/IPTA_Env-local_pp/lib/python3.9/site-packages/astropy/utils/shapes.py:332\u001b[0m, in \u001b[0;36mShapedLikeNDArray.__array_function__\u001b[0;34m(self, function, types, args, kwargs)\u001b[0m\n\u001b[1;32m    328\u001b[0m             \u001b[38;5;28;01mreturn\u001b[39;00m method\n\u001b[1;32m    330\u001b[0m \u001b[38;5;66;03m# Fall-back, just pass the arguments on since perhaps the function\u001b[39;00m\n\u001b[1;32m    331\u001b[0m \u001b[38;5;66;03m# works already (see above).\u001b[39;00m\n\u001b[0;32m--> 332\u001b[0m \u001b[38;5;28;01mreturn\u001b[39;00m \u001b[43mfunction\u001b[49m\u001b[38;5;241;43m.\u001b[39;49m\u001b[43m__wrapped__\u001b[49m\u001b[43m(\u001b[49m\u001b[38;5;241;43m*\u001b[39;49m\u001b[43margs\u001b[49m\u001b[43m,\u001b[49m\u001b[43m \u001b[49m\u001b[38;5;241;43m*\u001b[39;49m\u001b[38;5;241;43m*\u001b[39;49m\u001b[43mkwargs\u001b[49m\u001b[43m)\u001b[49m\n",
      "File \u001b[0;32m~/anaconda3/envs/IPTA_Env-local_pp/lib/python3.9/site-packages/numpy/core/numeric.py:129\u001b[0m, in \u001b[0;36mzeros_like\u001b[0;34m(a, dtype, order, subok, shape)\u001b[0m\n\u001b[1;32m     67\u001b[0m \u001b[38;5;129m@array_function_dispatch\u001b[39m(_zeros_like_dispatcher)\n\u001b[1;32m     68\u001b[0m \u001b[38;5;28;01mdef\u001b[39;00m \u001b[38;5;21mzeros_like\u001b[39m(a, dtype\u001b[38;5;241m=\u001b[39m\u001b[38;5;28;01mNone\u001b[39;00m, order\u001b[38;5;241m=\u001b[39m\u001b[38;5;124m'\u001b[39m\u001b[38;5;124mK\u001b[39m\u001b[38;5;124m'\u001b[39m, subok\u001b[38;5;241m=\u001b[39m\u001b[38;5;28;01mTrue\u001b[39;00m, shape\u001b[38;5;241m=\u001b[39m\u001b[38;5;28;01mNone\u001b[39;00m):\n\u001b[1;32m     69\u001b[0m \u001b[38;5;250m    \u001b[39m\u001b[38;5;124;03m\"\"\"\u001b[39;00m\n\u001b[1;32m     70\u001b[0m \u001b[38;5;124;03m    Return an array of zeros with the same shape and type as a given array.\u001b[39;00m\n\u001b[1;32m     71\u001b[0m \n\u001b[0;32m   (...)\u001b[0m\n\u001b[1;32m    127\u001b[0m \n\u001b[1;32m    128\u001b[0m \u001b[38;5;124;03m    \"\"\"\u001b[39;00m\n\u001b[0;32m--> 129\u001b[0m     res \u001b[38;5;241m=\u001b[39m \u001b[43mempty_like\u001b[49m\u001b[43m(\u001b[49m\u001b[43ma\u001b[49m\u001b[43m,\u001b[49m\u001b[43m \u001b[49m\u001b[43mdtype\u001b[49m\u001b[38;5;241;43m=\u001b[39;49m\u001b[43mdtype\u001b[49m\u001b[43m,\u001b[49m\u001b[43m \u001b[49m\u001b[43morder\u001b[49m\u001b[38;5;241;43m=\u001b[39;49m\u001b[43morder\u001b[49m\u001b[43m,\u001b[49m\u001b[43m \u001b[49m\u001b[43msubok\u001b[49m\u001b[38;5;241;43m=\u001b[39;49m\u001b[43msubok\u001b[49m\u001b[43m,\u001b[49m\u001b[43m \u001b[49m\u001b[43mshape\u001b[49m\u001b[38;5;241;43m=\u001b[39;49m\u001b[43mshape\u001b[49m\u001b[43m)\u001b[49m\n\u001b[1;32m    130\u001b[0m     \u001b[38;5;66;03m# needed instead of a 0 to get same result as zeros for string dtypes\u001b[39;00m\n\u001b[1;32m    131\u001b[0m     z \u001b[38;5;241m=\u001b[39m zeros(\u001b[38;5;241m1\u001b[39m, dtype\u001b[38;5;241m=\u001b[39mres\u001b[38;5;241m.\u001b[39mdtype)\n",
      "File \u001b[0;32m~/anaconda3/envs/IPTA_Env-local_pp/lib/python3.9/site-packages/astropy/time/core.py:2807\u001b[0m, in \u001b[0;36mTime.__array_function__\u001b[0;34m(self, function, types, args, kwargs)\u001b[0m\n\u001b[1;32m   2805\u001b[0m     \u001b[38;5;28;01mreturn\u001b[39;00m \u001b[38;5;28mNotImplemented\u001b[39m\n\u001b[1;32m   2806\u001b[0m \u001b[38;5;28;01melse\u001b[39;00m:\n\u001b[0;32m-> 2807\u001b[0m     \u001b[38;5;28;01mreturn\u001b[39;00m \u001b[38;5;28;43msuper\u001b[39;49m\u001b[43m(\u001b[49m\u001b[43m)\u001b[49m\u001b[38;5;241;43m.\u001b[39;49m\u001b[43m__array_function__\u001b[49m\u001b[43m(\u001b[49m\u001b[43mfunction\u001b[49m\u001b[43m,\u001b[49m\u001b[43m \u001b[49m\u001b[43mtypes\u001b[49m\u001b[43m,\u001b[49m\u001b[43m \u001b[49m\u001b[43margs\u001b[49m\u001b[43m,\u001b[49m\u001b[43m \u001b[49m\u001b[43mkwargs\u001b[49m\u001b[43m)\u001b[49m\n",
      "File \u001b[0;32m~/anaconda3/envs/IPTA_Env-local_pp/lib/python3.9/site-packages/astropy/utils/shapes.py:332\u001b[0m, in \u001b[0;36mShapedLikeNDArray.__array_function__\u001b[0;34m(self, function, types, args, kwargs)\u001b[0m\n\u001b[1;32m    328\u001b[0m             \u001b[38;5;28;01mreturn\u001b[39;00m method\n\u001b[1;32m    330\u001b[0m \u001b[38;5;66;03m# Fall-back, just pass the arguments on since perhaps the function\u001b[39;00m\n\u001b[1;32m    331\u001b[0m \u001b[38;5;66;03m# works already (see above).\u001b[39;00m\n\u001b[0;32m--> 332\u001b[0m \u001b[38;5;28;01mreturn\u001b[39;00m \u001b[43mfunction\u001b[49m\u001b[38;5;241;43m.\u001b[39;49m\u001b[43m__wrapped__\u001b[49m\u001b[43m(\u001b[49m\u001b[38;5;241;43m*\u001b[39;49m\u001b[43margs\u001b[49m\u001b[43m,\u001b[49m\u001b[43m \u001b[49m\u001b[38;5;241;43m*\u001b[39;49m\u001b[38;5;241;43m*\u001b[39;49m\u001b[43mkwargs\u001b[49m\u001b[43m)\u001b[49m\n",
      "File \u001b[0;32m~/anaconda3/envs/IPTA_Env-local_pp/lib/python3.9/site-packages/astropy/utils/shapes.py:254\u001b[0m, in \u001b[0;36mShapedLikeNDArray.__iter__.<locals>.self_iter\u001b[0;34m()\u001b[0m\n\u001b[1;32m    252\u001b[0m \u001b[38;5;28;01mdef\u001b[39;00m \u001b[38;5;21mself_iter\u001b[39m():\n\u001b[1;32m    253\u001b[0m     \u001b[38;5;28;01mfor\u001b[39;00m idx \u001b[38;5;129;01min\u001b[39;00m \u001b[38;5;28mrange\u001b[39m(\u001b[38;5;28mlen\u001b[39m(\u001b[38;5;28mself\u001b[39m)):\n\u001b[0;32m--> 254\u001b[0m         \u001b[38;5;28;01myield\u001b[39;00m \u001b[38;5;28;43mself\u001b[39;49m\u001b[43m[\u001b[49m\u001b[43midx\u001b[49m\u001b[43m]\u001b[49m\n",
      "File \u001b[0;32m~/anaconda3/envs/IPTA_Env-local_pp/lib/python3.9/site-packages/astropy/utils/shapes.py:234\u001b[0m, in \u001b[0;36mShapedLikeNDArray.__getitem__\u001b[0;34m(self, item)\u001b[0m\n\u001b[1;32m    232\u001b[0m \u001b[38;5;28;01mdef\u001b[39;00m \u001b[38;5;21m__getitem__\u001b[39m(\u001b[38;5;28mself\u001b[39m, item):\n\u001b[1;32m    233\u001b[0m     \u001b[38;5;28;01mtry\u001b[39;00m:\n\u001b[0;32m--> 234\u001b[0m         \u001b[38;5;28;01mreturn\u001b[39;00m \u001b[38;5;28;43mself\u001b[39;49m\u001b[38;5;241;43m.\u001b[39;49m\u001b[43m_apply\u001b[49m\u001b[43m(\u001b[49m\u001b[38;5;124;43m\"\u001b[39;49m\u001b[38;5;124;43m__getitem__\u001b[39;49m\u001b[38;5;124;43m\"\u001b[39;49m\u001b[43m,\u001b[49m\u001b[43m \u001b[49m\u001b[43mitem\u001b[49m\u001b[43m)\u001b[49m\n\u001b[1;32m    235\u001b[0m     \u001b[38;5;28;01mexcept\u001b[39;00m \u001b[38;5;167;01mIndexError\u001b[39;00m:\n\u001b[1;32m    236\u001b[0m         \u001b[38;5;28;01mif\u001b[39;00m \u001b[38;5;28mself\u001b[39m\u001b[38;5;241m.\u001b[39misscalar:\n",
      "File \u001b[0;32m~/anaconda3/envs/IPTA_Env-local_pp/lib/python3.9/site-packages/astropy/time/core.py:1369\u001b[0m, in \u001b[0;36mTimeBase._apply\u001b[0;34m(self, method, format, cls, *args, **kwargs)\u001b[0m\n\u001b[1;32m   1367\u001b[0m \u001b[38;5;66;03m# Get a new instance of our class and set its attributes directly.\u001b[39;00m\n\u001b[1;32m   1368\u001b[0m tm \u001b[38;5;241m=\u001b[39m \u001b[38;5;28msuper\u001b[39m()\u001b[38;5;241m.\u001b[39m\u001b[38;5;21m__new__\u001b[39m(\u001b[38;5;28mcls\u001b[39m \u001b[38;5;129;01mor\u001b[39;00m \u001b[38;5;28mself\u001b[39m\u001b[38;5;241m.\u001b[39m\u001b[38;5;18m__class__\u001b[39m)\n\u001b[0;32m-> 1369\u001b[0m tm\u001b[38;5;241m.\u001b[39m_time \u001b[38;5;241m=\u001b[39m \u001b[43mTimeJD\u001b[49m\u001b[43m(\u001b[49m\n\u001b[1;32m   1370\u001b[0m \u001b[43m    \u001b[49m\u001b[43mjd1\u001b[49m\u001b[43m,\u001b[49m\n\u001b[1;32m   1371\u001b[0m \u001b[43m    \u001b[49m\u001b[43mjd2\u001b[49m\u001b[43m,\u001b[49m\n\u001b[1;32m   1372\u001b[0m \u001b[43m    \u001b[49m\u001b[38;5;28;43mself\u001b[39;49m\u001b[38;5;241;43m.\u001b[39;49m\u001b[43mscale\u001b[49m\u001b[43m,\u001b[49m\n\u001b[1;32m   1373\u001b[0m \u001b[43m    \u001b[49m\u001b[43mprecision\u001b[49m\u001b[38;5;241;43m=\u001b[39;49m\u001b[38;5;28;43;01mNone\u001b[39;49;00m\u001b[43m,\u001b[49m\n\u001b[1;32m   1374\u001b[0m \u001b[43m    \u001b[49m\u001b[43min_subfmt\u001b[49m\u001b[38;5;241;43m=\u001b[39;49m\u001b[38;5;124;43m\"\u001b[39;49m\u001b[38;5;124;43m*\u001b[39;49m\u001b[38;5;124;43m\"\u001b[39;49m\u001b[43m,\u001b[49m\n\u001b[1;32m   1375\u001b[0m \u001b[43m    \u001b[49m\u001b[43mout_subfmt\u001b[49m\u001b[38;5;241;43m=\u001b[39;49m\u001b[38;5;124;43m\"\u001b[39;49m\u001b[38;5;124;43m*\u001b[39;49m\u001b[38;5;124;43m\"\u001b[39;49m\u001b[43m,\u001b[49m\n\u001b[1;32m   1376\u001b[0m \u001b[43m    \u001b[49m\u001b[43mfrom_jd\u001b[49m\u001b[38;5;241;43m=\u001b[39;49m\u001b[38;5;28;43;01mTrue\u001b[39;49;00m\u001b[43m,\u001b[49m\n\u001b[1;32m   1377\u001b[0m \u001b[43m\u001b[49m\u001b[43m)\u001b[49m\n\u001b[1;32m   1379\u001b[0m \u001b[38;5;66;03m# Optional ndarray attributes.\u001b[39;00m\n\u001b[1;32m   1380\u001b[0m \u001b[38;5;28;01mfor\u001b[39;00m attr \u001b[38;5;129;01min\u001b[39;00m (\u001b[38;5;124m\"\u001b[39m\u001b[38;5;124m_delta_ut1_utc\u001b[39m\u001b[38;5;124m\"\u001b[39m, \u001b[38;5;124m\"\u001b[39m\u001b[38;5;124m_delta_tdb_tt\u001b[39m\u001b[38;5;124m\"\u001b[39m, \u001b[38;5;124m\"\u001b[39m\u001b[38;5;124mlocation\u001b[39m\u001b[38;5;124m\"\u001b[39m):\n",
      "File \u001b[0;32m~/anaconda3/envs/IPTA_Env-local_pp/lib/python3.9/site-packages/astropy/time/formats.py:155\u001b[0m, in \u001b[0;36mTimeFormat.__init__\u001b[0;34m(self, val1, val2, scale, precision, in_subfmt, out_subfmt, from_jd)\u001b[0m\n\u001b[1;32m    152\u001b[0m \u001b[38;5;28;01mdef\u001b[39;00m \u001b[38;5;21m__init__\u001b[39m(\n\u001b[1;32m    153\u001b[0m     \u001b[38;5;28mself\u001b[39m, val1, val2, scale, precision, in_subfmt, out_subfmt, from_jd\u001b[38;5;241m=\u001b[39m\u001b[38;5;28;01mFalse\u001b[39;00m\n\u001b[1;32m    154\u001b[0m ):\n\u001b[0;32m--> 155\u001b[0m     \u001b[38;5;28;43mself\u001b[39;49m\u001b[38;5;241;43m.\u001b[39;49m\u001b[43mscale\u001b[49m \u001b[38;5;241m=\u001b[39m scale  \u001b[38;5;66;03m# validation of scale done later with _check_scale\u001b[39;00m\n\u001b[1;32m    156\u001b[0m     \u001b[38;5;28mself\u001b[39m\u001b[38;5;241m.\u001b[39mprecision \u001b[38;5;241m=\u001b[39m precision\n\u001b[1;32m    157\u001b[0m     \u001b[38;5;28mself\u001b[39m\u001b[38;5;241m.\u001b[39min_subfmt \u001b[38;5;241m=\u001b[39m in_subfmt\n",
      "File \u001b[0;32m~/anaconda3/envs/IPTA_Env-local_pp/lib/python3.9/site-packages/astropy/time/formats.py:267\u001b[0m, in \u001b[0;36mTimeFormat.scale\u001b[0;34m(self, val)\u001b[0m\n\u001b[1;32m    265\u001b[0m \u001b[38;5;129m@scale\u001b[39m\u001b[38;5;241m.\u001b[39msetter\n\u001b[1;32m    266\u001b[0m \u001b[38;5;28;01mdef\u001b[39;00m \u001b[38;5;21mscale\u001b[39m(\u001b[38;5;28mself\u001b[39m, val):\n\u001b[0;32m--> 267\u001b[0m     \u001b[38;5;28;43mself\u001b[39;49m\u001b[38;5;241;43m.\u001b[39;49m\u001b[43m_scale\u001b[49m \u001b[38;5;241m=\u001b[39m val\n",
      "\u001b[0;31mKeyboardInterrupt\u001b[0m: "
     ]
    }
   ],
   "source": [
    "import pint_pal.dmx_utils as du\n",
    "from pint_pal.timingconfiguration import TimingConfiguration\n",
    "\n",
    "\n",
    "config = \"J2145-0750-CLEANED.chime.nb.yaml\" \n",
    "par_directory = None   # default location\n",
    "tim_directory = None   # default location\n",
    "\n",
    "tc = TimingConfiguration(config, par_directory=par_directory, tim_directory=tim_directory)\n",
    "\n",
    "\n",
    "using_wideband = tc.get_toa_type() == 'WB'\n",
    "\n",
    "use_toa_pickle = False\n",
    "\n",
    "# Use excise.tim file if it exists, else revert to raw TOAs & initial cuts\n",
    "mo,to = tc.get_model_and_toas(excised=False,usepickle=use_toa_pickle)"
   ]
  },
  {
   "cell_type": "code",
   "execution_count": 2,
   "id": "9184a4de-3595-4273-9b1c-d6f58285632a",
   "metadata": {},
   "outputs": [
    {
     "name": "stdout",
     "output_type": "stream",
     "text": [
      "[53356.81982541 53943.54140874 54423.75335311 54641.56259376\n",
      " 54767.64665249 54914.5635056  57366.93771032]\n"
     ]
    }
   ],
   "source": [
    "print(du.group_dates(to, group_width = 100.0)) # creates array of dates defining MJDs with a certain group width \n",
    "# basically splits toas into groups of width group_width"
   ]
  },
  {
   "cell_type": "markdown",
   "id": "e0c0b148-9f0f-4fe7-a35e-4884972b4a4d",
   "metadata": {},
   "source": [
    "Important steps in group_dates():"
   ]
  },
  {
   "cell_type": "code",
   "execution_count": 3,
   "id": "02fb7ab4-fc05-422f-b121-56d15e81f7f0",
   "metadata": {},
   "outputs": [
    {
     "name": "stdout",
     "output_type": "stream",
     "text": [
      "59071.35318483562\n",
      "['CHIME' 'CHIME' 'CHIME' ... 'GUPPI' 'GUPPI' 'GUPPI']\n",
      "(['Rcvr1_2_GASP', 'Rcvr1_2_GASP', 'Rcvr1_2_GASP', 'Rcvr1_2_GASP', 'Rcvr1_2_GASP', 'Rcvr1_2_GASP', 'Rcvr1_2_GASP', 'Rcvr1_2_GASP', 'Rcvr1_2_GASP', 'Rcvr1_2_GASP', 'Rcvr1_2_GASP', 'Rcvr1_2_GASP', 'Rcvr1_2_GASP', 'Rcvr1_2_GASP', 'Rcvr1_2_GASP', 'Rcvr1_2_GASP', 'Rcvr1_2_GASP', 'Rcvr1_2_GASP', 'Rcvr1_2_GASP', 'Rcvr1_2_GASP', 'Rcvr1_2_GASP', 'Rcvr1_2_GASP', 'Rcvr1_2_GASP', 'Rcvr1_2_GASP', 'Rcvr1_2_GASP', 'Rcvr1_2_GASP', 'Rcvr1_2_GASP', 'Rcvr1_2_GASP', 'Rcvr1_2_GASP', 'Rcvr1_2_GASP', 'Rcvr1_2_GASP', 'Rcvr1_2_GASP', 'Rcvr1_2_GASP', 'Rcvr1_2_GASP', 'Rcvr1_2_GASP', 'Rcvr1_2_GASP', 'Rcvr1_2_GASP', 'Rcvr1_2_GASP', 'Rcvr1_2_GASP', 'Rcvr1_2_GASP', 'Rcvr1_2_GASP', 'Rcvr1_2_GASP', 'Rcvr1_2_GASP', 'Rcvr1_2_GASP', 'Rcvr1_2_GASP', 'Rcvr1_2_GASP', 'Rcvr1_2_GASP', 'Rcvr1_2_GASP', 'Rcvr1_2_GASP', 'Rcvr1_2_GASP', 'Rcvr1_2_GASP', 'Rcvr1_2_GASP', 'Rcvr1_2_GASP', 'Rcvr1_2_GASP', 'Rcvr1_2_GASP', 'Rcvr1_2_GASP', 'Rcvr1_2_GASP', 'Rcvr1_2_GASP', 'Rcvr1_2_GASP', 'Rcvr1_2_GASP', 'Rcvr1_2_GASP', 'Rcvr1_2_GASP', 'Rcvr1_2_GASP', 'Rcvr1_2_GASP', 'Rcvr1_2_GASP', 'Rcvr1_2_GASP', 'Rcvr1_2_GASP', 'Rcvr1_2_GASP', 'Rcvr1_2_GASP', 'Rcvr1_2_GASP', 'Rcvr1_2_GASP', 'Rcvr1_2_GASP', 'Rcvr1_2_GASP', 'Rcvr1_2_GASP', 'Rcvr1_2_GASP', 'Rcvr1_2_GASP', 'Rcvr1_2_GASP', 'Rcvr1_2_GASP', 'Rcvr1_2_GASP', 'Rcvr1_2_GASP', 'Rcvr1_2_GASP', 'Rcvr1_2_GASP', 'Rcvr1_2_GASP', 'Rcvr1_2_GASP', 'Rcvr1_2_GASP', 'Rcvr1_2_GASP', 'Rcvr1_2_GASP', 'Rcvr1_2_GASP', 'Rcvr1_2_GASP', 'Rcvr1_2_GASP', 'Rcvr1_2_GASP', 'Rcvr1_2_GASP', 'Rcvr1_2_GASP', 'Rcvr1_2_GASP', 'Rcvr1_2_GASP', 'Rcvr1_2_GASP', 'Rcvr1_2_GASP', 'Rcvr1_2_GASP', 'Rcvr1_2_GASP', 'Rcvr1_2_GASP', 'Rcvr1_2_GASP', 'Rcvr1_2_GASP', 'Rcvr1_2_GASP', 'Rcvr1_2_GASP', 'Rcvr1_2_GASP', 'Rcvr1_2_GASP', 'Rcvr1_2_GASP', 'Rcvr1_2_GASP', 'Rcvr1_2_GASP', 'Rcvr1_2_GASP', 'Rcvr1_2_GASP', 'Rcvr1_2_GASP', 'Rcvr1_2_GASP', 'Rcvr1_2_GASP', 'Rcvr1_2_GASP', 'Rcvr1_2_GASP', 'Rcvr1_2_GASP', 'Rcvr1_2_GASP', 'Rcvr1_2_GASP', 'Rcvr1_2_GASP', 'Rcvr1_2_GASP', 'Rcvr1_2_GASP', 'Rcvr1_2_GASP', 'Rcvr1_2_GASP', 'Rcvr1_2_GASP', 'Rcvr1_2_GASP', 'Rcvr1_2_GASP', 'Rcvr1_2_GASP', 'Rcvr1_2_GASP', 'Rcvr1_2_GASP', 'Rcvr1_2_GASP', 'Rcvr1_2_GASP', 'Rcvr1_2_GASP', 'Rcvr1_2_GASP', 'Rcvr1_2_GASP', 'Rcvr1_2_GASP', 'Rcvr1_2_GASP', 'Rcvr1_2_GASP', 'Rcvr1_2_GASP', 'Rcvr1_2_GASP', 'Rcvr1_2_GASP', 'Rcvr1_2_GASP', 'Rcvr1_2_GASP', 'Rcvr1_2_GASP', 'Rcvr1_2_GASP', 'Rcvr1_2_GASP', 'Rcvr1_2_GASP', 'Rcvr1_2_GASP', 'Rcvr1_2_GASP', 'Rcvr1_2_GASP', 'Rcvr1_2_GASP', 'Rcvr1_2_GASP', 'Rcvr1_2_GASP', 'Rcvr1_2_GASP', 'Rcvr1_2_GASP', 'Rcvr1_2_GASP', 'Rcvr1_2_GASP', 'Rcvr1_2_GASP', 'Rcvr1_2_GASP', 'Rcvr1_2_GASP', 'Rcvr1_2_GASP', 'Rcvr1_2_GASP', 'Rcvr1_2_GASP', 'Rcvr1_2_GASP', 'Rcvr1_2_GASP', 'Rcvr1_2_GASP', 'Rcvr1_2_GASP', 'Rcvr1_2_GASP', 'Rcvr1_2_GASP', 'Rcvr1_2_GASP', 'Rcvr1_2_GASP', 'Rcvr1_2_GASP', 'Rcvr1_2_GASP', 'Rcvr1_2_GASP', 'Rcvr1_2_GASP', 'Rcvr1_2_GASP', 'Rcvr1_2_GASP', 'Rcvr1_2_GASP', 'Rcvr1_2_GASP', 'Rcvr1_2_GASP', 'Rcvr1_2_GASP', 'Rcvr1_2_GASP', 'Rcvr1_2_GASP', 'Rcvr1_2_GASP', 'Rcvr1_2_GASP', 'Rcvr1_2_GASP', 'Rcvr1_2_GASP', 'Rcvr1_2_GASP', 'Rcvr1_2_GASP', 'Rcvr1_2_GASP', 'Rcvr1_2_GASP', 'Rcvr1_2_GASP', 'Rcvr1_2_GASP', 'Rcvr1_2_GASP', 'Rcvr1_2_GASP', 'Rcvr1_2_GASP', 'Rcvr1_2_GASP', 'Rcvr1_2_GASP', 'Rcvr1_2_GASP', 'Rcvr1_2_GASP', 'Rcvr1_2_GASP', 'Rcvr1_2_GASP', 'Rcvr1_2_GASP', 'Rcvr1_2_GASP', 'Rcvr1_2_GASP', 'Rcvr1_2_GASP', 'Rcvr1_2_GASP', 'Rcvr1_2_GASP', 'Rcvr1_2_GASP', 'Rcvr1_2_GASP', 'Rcvr1_2_GASP', 'Rcvr1_2_GASP', 'Rcvr1_2_GASP', 'Rcvr1_2_GASP', 'Rcvr1_2_GASP', 'Rcvr1_2_GASP', 'Rcvr1_2_GASP', 'Rcvr1_2_GASP', 'Rcvr1_2_GASP', 'Rcvr1_2_GASP', 'Rcvr1_2_GASP', 'Rcvr1_2_GASP', 'Rcvr1_2_GASP', 'Rcvr1_2_GASP', 'Rcvr1_2_GASP', 'Rcvr1_2_GASP', 'Rcvr1_2_GASP', 'Rcvr1_2_GASP', 'Rcvr1_2_GASP', 'Rcvr1_2_GASP', 'Rcvr1_2_GASP', 'Rcvr1_2_GASP', 'Rcvr1_2_GASP', 'Rcvr1_2_GASP', 'Rcvr1_2_GASP', 'Rcvr1_2_GASP', 'Rcvr1_2_GASP', 'Rcvr1_2_GASP', 'Rcvr1_2_GASP', 'Rcvr1_2_GASP', 'Rcvr1_2_GASP', 'Rcvr1_2_GASP', 'Rcvr1_2_GASP', 'Rcvr1_2_GASP', 'Rcvr1_2_GASP', 'Rcvr1_2_GASP', 'Rcvr1_2_GASP', 'Rcvr1_2_GASP', 'Rcvr1_2_GASP', 'Rcvr1_2_GASP', 'Rcvr1_2_GASP', 'Rcvr1_2_GASP', 'Rcvr1_2_GASP', 'Rcvr1_2_GASP', 'Rcvr1_2_GASP', 'Rcvr1_2_GASP', 'Rcvr1_2_GASP', 'Rcvr1_2_GASP', 'Rcvr1_2_GASP', 'Rcvr1_2_GASP', 'Rcvr1_2_GASP', 'Rcvr1_2_GASP', 'Rcvr1_2_GASP', 'Rcvr1_2_GASP', 'Rcvr1_2_GASP', 'Rcvr1_2_GASP', 'Rcvr1_2_GASP', 'Rcvr1_2_GASP', 'Rcvr1_2_GASP', 'Rcvr1_2_GASP', 'Rcvr1_2_GASP', 'Rcvr1_2_GASP', 'Rcvr1_2_GASP', 'Rcvr1_2_GASP', 'Rcvr1_2_GASP', 'Rcvr1_2_GASP', 'Rcvr1_2_GASP', 'Rcvr1_2_GASP', 'Rcvr1_2_GASP', 'Rcvr1_2_GASP', 'Rcvr1_2_GASP', 'Rcvr1_2_GASP', 'Rcvr1_2_GASP', 'Rcvr1_2_GASP', 'Rcvr1_2_GASP', 'Rcvr1_2_GASP', 'Rcvr1_2_GASP', 'Rcvr1_2_GASP', 'Rcvr1_2_GASP', 'Rcvr1_2_GASP', 'Rcvr1_2_GASP', 'Rcvr1_2_GASP', 'Rcvr1_2_GASP', 'Rcvr1_2_GASP', 'Rcvr1_2_GASP', 'Rcvr1_2_GASP', 'Rcvr1_2_GASP', 'Rcvr1_2_GASP', 'Rcvr1_2_GASP', 'Rcvr1_2_GASP', 'Rcvr1_2_GASP', 'Rcvr1_2_GASP', 'Rcvr1_2_GASP', 'Rcvr1_2_GASP', 'Rcvr1_2_GASP', 'Rcvr1_2_GASP', 'Rcvr1_2_GASP', 'Rcvr1_2_GASP', 'Rcvr1_2_GASP', 'Rcvr1_2_GASP', 'Rcvr1_2_GASP', 'Rcvr1_2_GASP', 'Rcvr1_2_GASP', 'Rcvr1_2_GASP', 'Rcvr1_2_GASP', 'Rcvr1_2_GASP', 'Rcvr1_2_GASP', 'Rcvr1_2_GASP', 'Rcvr1_2_GASP', 'Rcvr1_2_GASP', 'Rcvr1_2_GASP', 'Rcvr1_2_GASP', 'Rcvr1_2_GASP', 'Rcvr1_2_GASP', 'Rcvr1_2_GASP', 'Rcvr1_2_GASP', 'Rcvr1_2_GASP', 'Rcvr1_2_GASP', 'Rcvr1_2_GASP', 'Rcvr1_2_GASP', 'Rcvr1_2_GASP', 'Rcvr1_2_GASP', 'Rcvr1_2_GASP', 'Rcvr1_2_GASP', 'Rcvr1_2_GASP', 'Rcvr1_2_GASP', 'Rcvr1_2_GASP', 'Rcvr1_2_GASP', 'Rcvr1_2_GASP', 'Rcvr1_2_GASP', 'Rcvr1_2_GASP', 'Rcvr1_2_GASP', 'Rcvr1_2_GASP', 'Rcvr1_2_GASP', 'Rcvr1_2_GASP', 'Rcvr1_2_GASP', 'Rcvr1_2_GASP', 'Rcvr1_2_GASP', 'Rcvr1_2_GASP', 'Rcvr1_2_GASP', 'Rcvr1_2_GASP', 'Rcvr1_2_GASP', 'Rcvr1_2_GASP', 'Rcvr1_2_GASP', 'Rcvr1_2_GASP', 'Rcvr1_2_GASP', 'Rcvr1_2_GASP', 'Rcvr1_2_GASP', 'Rcvr1_2_GASP', 'Rcvr1_2_GASP', 'Rcvr1_2_GASP', 'Rcvr1_2_GASP', 'Rcvr1_2_GASP', 'Rcvr1_2_GASP', 'Rcvr1_2_GASP', 'Rcvr1_2_GASP', 'Rcvr1_2_GASP', 'Rcvr1_2_GASP', 'Rcvr1_2_GASP', 'Rcvr1_2_GASP', 'Rcvr1_2_GASP', 'Rcvr1_2_GASP', 'Rcvr1_2_GASP', 'Rcvr1_2_GASP', 'Rcvr1_2_GASP', 'Rcvr1_2_GASP', 'Rcvr1_2_GASP', 'Rcvr1_2_GASP', 'Rcvr1_2_GASP', 'Rcvr1_2_GASP', 'Rcvr1_2_GASP', 'Rcvr1_2_GASP', 'Rcvr1_2_GASP', 'Rcvr1_2_GASP', 'Rcvr1_2_GASP', 'Rcvr1_2_GASP', 'Rcvr1_2_GASP', 'Rcvr1_2_GASP', 'Rcvr1_2_GASP', 'Rcvr1_2_GASP', 'Rcvr1_2_GASP', 'Rcvr1_2_GASP', 'Rcvr1_2_GASP', 'Rcvr1_2_GASP', 'Rcvr1_2_GASP', 'Rcvr1_2_GASP', 'Rcvr1_2_GASP', 'Rcvr1_2_GASP', 'Rcvr1_2_GASP', 'Rcvr1_2_GASP', 'Rcvr1_2_GASP', 'Rcvr1_2_GASP', 'Rcvr1_2_GASP', 'Rcvr1_2_GASP', 'Rcvr1_2_GASP', 'Rcvr1_2_GASP', 'Rcvr1_2_GASP', 'Rcvr1_2_GASP', 'Rcvr1_2_GASP', 'Rcvr1_2_GASP', 'Rcvr1_2_GASP', 'Rcvr1_2_GASP', 'Rcvr1_2_GASP', 'Rcvr1_2_GASP', 'Rcvr1_2_GASP', 'Rcvr1_2_GASP', 'Rcvr1_2_GASP', 'Rcvr1_2_GASP', 'Rcvr1_2_GASP', 'Rcvr1_2_GASP', 'Rcvr1_2_GASP', 'Rcvr1_2_GASP', 'Rcvr1_2_GASP', 'Rcvr1_2_GASP', 'Rcvr1_2_GASP', 'Rcvr1_2_GASP', 'Rcvr1_2_GASP', 'Rcvr_800_GASP', 'Rcvr_800_GASP', 'Rcvr_800_GASP', 'Rcvr_800_GASP', 'Rcvr_800_GASP', 'Rcvr_800_GASP', 'Rcvr_800_GASP', 'Rcvr_800_GASP', 'Rcvr_800_GASP', 'Rcvr_800_GASP', 'Rcvr_800_GASP', 'Rcvr_800_GASP', 'Rcvr_800_GASP', 'Rcvr_800_GASP', 'Rcvr_800_GASP', 'Rcvr_800_GASP', 'Rcvr_800_GASP', 'Rcvr_800_GASP', 'Rcvr_800_GASP', 'Rcvr_800_GASP', 'Rcvr_800_GASP', 'Rcvr_800_GASP', 'Rcvr_800_GASP', 'Rcvr_800_GASP', 'Rcvr_800_GASP', 'Rcvr_800_GASP', 'Rcvr_800_GASP', 'Rcvr_800_GASP', 'Rcvr_800_GASP', 'Rcvr_800_GASP', 'Rcvr_800_GASP', 'Rcvr_800_GASP', 'Rcvr_800_GASP', 'Rcvr_800_GASP', 'Rcvr_800_GASP', 'Rcvr_800_GASP', 'Rcvr_800_GASP', 'Rcvr_800_GASP', 'Rcvr_800_GASP', 'Rcvr_800_GASP', 'Rcvr_800_GASP', 'Rcvr_800_GASP', 'Rcvr_800_GASP', 'Rcvr_800_GASP', 'Rcvr_800_GASP', 'Rcvr_800_GASP', 'Rcvr_800_GASP', 'Rcvr_800_GASP', 'Rcvr_800_GASP', 'Rcvr_800_GASP', 'Rcvr_800_GASP', 'Rcvr_800_GASP', 'Rcvr_800_GASP', 'Rcvr_800_GASP', 'Rcvr_800_GASP', 'Rcvr_800_GASP', 'Rcvr_800_GASP', 'Rcvr_800_GASP', 'Rcvr_800_GASP', 'Rcvr_800_GASP', 'Rcvr_800_GASP', 'Rcvr_800_GASP', 'Rcvr_800_GASP', 'Rcvr_800_GASP', 'Rcvr_800_GASP', 'Rcvr_800_GASP', 'Rcvr_800_GASP', 'Rcvr_800_GASP', 'Rcvr_800_GASP', 'Rcvr_800_GASP', 'Rcvr_800_GASP', 'Rcvr_800_GASP', 'Rcvr_800_GASP', 'Rcvr_800_GASP', 'Rcvr_800_GASP', 'Rcvr_800_GASP', 'Rcvr_800_GASP', 'Rcvr_800_GASP', 'Rcvr_800_GASP', 'Rcvr_800_GASP', 'Rcvr_800_GASP', 'Rcvr_800_GASP', 'Rcvr_800_GASP', 'Rcvr_800_GASP', 'Rcvr_800_GASP', 'Rcvr_800_GASP', 'Rcvr_800_GASP', 'Rcvr_800_GASP', 'Rcvr_800_GASP', 'Rcvr_800_GASP', 'Rcvr_800_GASP', 'Rcvr_800_GASP', 'Rcvr_800_GASP', 'Rcvr_800_GASP', 'Rcvr_800_GASP', 'Rcvr_800_GASP', 'Rcvr_800_GASP', 'Rcvr_800_GASP', 'Rcvr_800_GASP', 'Rcvr_800_GASP', 'Rcvr_800_GASP', 'Rcvr_800_GASP', 'Rcvr_800_GASP', 'Rcvr_800_GASP', 'Rcvr_800_GASP', 'Rcvr_800_GASP', 'Rcvr_800_GASP', 'Rcvr_800_GASP', 'Rcvr_800_GASP', 'Rcvr_800_GASP', 'Rcvr_800_GASP', 'Rcvr_800_GASP', 'Rcvr_800_GASP', 'Rcvr_800_GASP', 'Rcvr_800_GASP', 'Rcvr_800_GASP', 'Rcvr_800_GASP', 'Rcvr_800_GASP', 'Rcvr_800_GASP', 'Rcvr_800_GASP', 'Rcvr_800_GASP', 'Rcvr_800_GASP', 'Rcvr_800_GASP', 'Rcvr_800_GASP', 'Rcvr_800_GASP', 'Rcvr_800_GASP', 'Rcvr_800_GASP', 'Rcvr_800_GASP', 'Rcvr_800_GASP', 'Rcvr_800_GASP', 'Rcvr_800_GASP', 'Rcvr_800_GASP', 'Rcvr_800_GASP', 'Rcvr_800_GASP', 'Rcvr_800_GASP', 'Rcvr_800_GASP', 'Rcvr_800_GASP', 'Rcvr_800_GASP', 'Rcvr_800_GASP', 'Rcvr_800_GASP', 'Rcvr_800_GASP', 'Rcvr_800_GASP', 'Rcvr_800_GASP', 'Rcvr_800_GASP', 'Rcvr_800_GASP', 'Rcvr_800_GASP', 'Rcvr_800_GASP', 'Rcvr_800_GASP', 'Rcvr_800_GASP', 'Rcvr_800_GASP', 'Rcvr_800_GASP', 'Rcvr_800_GASP', 'Rcvr_800_GASP', 'Rcvr_800_GASP', 'Rcvr_800_GASP', 'Rcvr_800_GASP', 'Rcvr_800_GASP', 'Rcvr_800_GASP', 'Rcvr_800_GASP', 'Rcvr_800_GASP', 'Rcvr_800_GASP', 'Rcvr_800_GASP', 'Rcvr_800_GASP', 'Rcvr_800_GASP', 'Rcvr_800_GASP', 'Rcvr_800_GASP', 'Rcvr_800_GASP', 'Rcvr_800_GASP', 'Rcvr_800_GASP', 'Rcvr_800_GASP', 'Rcvr_800_GASP', 'Rcvr_800_GASP', 'Rcvr_800_GASP', 'Rcvr_800_GASP', 'Rcvr_800_GASP', 'Rcvr_800_GASP', 'Rcvr_800_GASP', 'Rcvr_800_GASP', 'Rcvr_800_GASP', 'Rcvr_800_GASP', 'Rcvr_800_GASP', 'Rcvr_800_GASP', 'Rcvr_800_GASP', 'Rcvr_800_GASP', 'Rcvr_800_GASP', 'Rcvr_800_GASP', 'Rcvr_800_GASP', 'Rcvr_800_GASP', 'Rcvr_800_GASP', 'Rcvr_800_GASP', 'Rcvr_800_GASP', 'Rcvr_800_GASP', 'Rcvr_800_GASP', 'Rcvr_800_GASP', 'Rcvr_800_GASP', 'Rcvr_800_GASP', 'Rcvr_800_GASP', 'Rcvr_800_GASP', 'Rcvr_800_GASP', 'Rcvr_800_GASP', 'Rcvr_800_GASP', 'Rcvr_800_GASP', 'Rcvr_800_GASP', 'Rcvr_800_GASP', 'Rcvr_800_GASP', 'Rcvr_800_GASP', 'Rcvr_800_GASP', 'Rcvr_800_GASP', 'Rcvr_800_GASP', 'Rcvr_800_GASP', 'Rcvr_800_GASP', 'Rcvr_800_GASP', 'Rcvr_800_GASP', 'Rcvr_800_GASP', 'Rcvr_800_GASP', 'Rcvr_800_GASP', 'Rcvr_800_GASP', 'Rcvr_800_GASP', 'Rcvr_800_GASP', 'Rcvr_800_GASP', 'Rcvr_800_GASP', 'Rcvr_800_GASP', 'Rcvr_800_GASP', 'Rcvr_800_GASP', 'Rcvr_800_GASP', 'Rcvr_800_GASP', 'Rcvr_800_GASP', 'Rcvr_800_GASP', 'Rcvr_800_GASP', 'Rcvr_800_GASP', 'Rcvr_800_GASP', 'Rcvr_800_GASP', 'Rcvr_800_GASP', 'Rcvr_800_GASP', 'Rcvr_800_GASP', 'Rcvr_800_GASP', 'Rcvr_800_GASP', 'Rcvr_800_GASP', 'Rcvr_800_GASP', 'Rcvr_800_GASP', 'Rcvr_800_GASP', 'Rcvr_800_GASP', 'Rcvr_800_GASP', 'Rcvr_800_GASP', 'Rcvr_800_GASP', 'Rcvr_800_GASP', 'Rcvr_800_GASP', 'Rcvr_800_GASP', 'Rcvr_800_GASP', 'Rcvr_800_GASP', 'Rcvr_800_GASP', 'Rcvr_800_GASP', 'Rcvr_800_GASP', 'Rcvr_800_GASP', 'Rcvr_800_GASP', 'Rcvr_800_GASP', 'Rcvr_800_GASP', 'Rcvr_800_GASP', 'Rcvr_800_GASP', 'Rcvr_800_GASP', 'Rcvr_800_GASP', 'Rcvr_800_GASP', 'Rcvr_800_GASP', 'Rcvr_800_GASP', 'Rcvr_800_GASP', 'Rcvr_800_GASP', 'Rcvr_800_GASP', 'Rcvr_800_GASP', 'Rcvr_800_GASP', 'Rcvr_800_GASP', 'Rcvr_800_GASP', 'Rcvr_800_GASP', 'Rcvr_800_GASP', 'Rcvr_800_GASP', 'Rcvr_800_GASP', 'Rcvr_800_GASP', 'Rcvr_800_GASP', 'Rcvr_800_GASP', 'Rcvr_800_GASP', 'Rcvr_800_GASP', 'Rcvr_800_GASP', 'Rcvr_800_GASP', 'Rcvr_800_GASP', 'Rcvr_800_GASP', 'Rcvr_800_GASP', 'Rcvr_800_GASP', 'Rcvr_800_GASP', 'Rcvr_800_GASP', 'Rcvr_800_GASP', 'Rcvr_800_GASP', 'Rcvr_800_GASP', 'Rcvr_800_GASP', 'Rcvr_800_GASP', 'Rcvr_800_GASP', 'Rcvr_800_GASP', 'Rcvr_800_GASP', 'Rcvr_800_GASP', 'Rcvr_800_GASP', 'Rcvr_800_GASP', 'Rcvr_800_GASP', 'Rcvr_800_GASP', 'Rcvr_800_GASP', 'Rcvr_800_GASP', 'Rcvr_800_GASP', 'Rcvr_800_GASP', 'Rcvr_800_GASP', 'Rcvr_800_GASP', 'Rcvr_800_GASP', 'Rcvr_800_GASP', 'Rcvr_800_GASP', 'Rcvr_800_GASP', 'Rcvr_800_GASP', 'Rcvr_800_GASP', 'Rcvr_800_GASP', 'Rcvr_800_GASP', 'Rcvr_800_GASP', 'Rcvr_800_GASP', 'Rcvr_800_GASP', 'Rcvr_800_GASP', 'Rcvr_800_GASP', 'Rcvr_800_GASP', 'Rcvr_800_GASP', 'Rcvr_800_GASP', 'Rcvr_800_GASP', 'Rcvr_800_GASP', 'Rcvr_800_GASP', 'Rcvr_800_GASP', 'Rcvr_800_GASP', 'Rcvr_800_GASP', 'Rcvr_800_GASP', 'Rcvr_800_GASP', 'Rcvr_800_GASP', 'Rcvr_800_GASP', 'Rcvr_800_GASP', 'Rcvr_800_GASP', 'Rcvr_800_GASP', 'Rcvr_800_GASP', 'Rcvr_800_GASP', 'Rcvr_800_GASP', 'Rcvr_800_GASP', 'Rcvr_800_GASP', 'Rcvr_800_GASP', 'Rcvr_800_GASP', 'Rcvr_800_GASP', 'Rcvr_800_GASP', 'Rcvr_800_GASP', 'Rcvr_800_GASP', 'Rcvr_800_GASP', 'Rcvr_800_GASP', 'Rcvr_800_GASP', 'Rcvr_800_GASP', 'Rcvr_800_GASP', 'Rcvr_800_GASP', 'Rcvr_800_GASP', 'Rcvr_800_GASP', 'Rcvr_800_GASP', 'Rcvr_800_GASP', 'Rcvr_800_GASP', 'Rcvr_800_GASP', 'Rcvr_800_GASP', 'Rcvr_800_GASP', 'Rcvr_800_GASP'], [0, 1, 2, 3, 4, 5, 6, 7, 8, 9, 10, 11, 12, 13, 14, 15, 16, 17, 18, 19, 20, 21, 22, 23, 24, 25, 26, 27, 28, 29, 30, 31, 32, 33, 34, 35, 36, 37, 38, 39, 40, 41, 42, 43, 44, 45, 46, 47, 48, 49, 50, 51, 52, 53, 54, 55, 56, 57, 58, 59, 60, 61, 62, 63, 64, 65, 66, 67, 68, 69, 70, 71, 72, 73, 74, 75, 76, 77, 78, 79, 80, 81, 82, 83, 84, 85, 86, 87, 88, 89, 90, 91, 92, 93, 94, 95, 96, 97, 98, 99, 100, 101, 102, 103, 104, 105, 106, 107, 108, 109, 110, 111, 112, 113, 114, 115, 116, 117, 118, 119, 120, 121, 122, 123, 124, 125, 126, 127, 128, 129, 130, 131, 132, 133, 134, 135, 136, 137, 138, 139, 140, 141, 142, 143, 144, 145, 146, 147, 148, 149, 150, 151, 152, 153, 154, 155, 156, 157, 158, 159, 160, 161, 162, 163, 164, 165, 166, 167, 168, 169, 170, 171, 172, 173, 174, 175, 176, 177, 178, 179, 180, 181, 182, 183, 184, 185, 186, 187, 188, 189, 190, 191, 192, 193, 194, 195, 196, 197, 198, 199, 200, 201, 202, 203, 204, 205, 206, 207, 208, 209, 210, 211, 212, 213, 214, 215, 216, 217, 218, 219, 220, 221, 222, 223, 224, 225, 226, 227, 228, 229, 230, 231, 232, 233, 234, 235, 236, 237, 238, 239, 240, 241, 242, 243, 244, 245, 246, 247, 248, 249, 250, 251, 252, 253, 254, 255, 256, 257, 258, 259, 260, 261, 262, 263, 264, 265, 266, 267, 268, 269, 270, 271, 272, 273, 274, 275, 276, 277, 278, 279, 280, 281, 282, 283, 284, 285, 286, 287, 288, 289, 290, 291, 292, 293, 294, 295, 296, 297, 298, 299, 300, 301, 302, 303, 304, 305, 306, 307, 308, 309, 310, 311, 312, 313, 314, 315, 316, 317, 318, 319, 320, 321, 322, 323, 324, 325, 326, 327, 328, 329, 330, 331, 332, 333, 334, 335, 336, 337, 338, 339, 340, 341, 342, 343, 344, 345, 346, 347, 348, 349, 350, 351, 352, 353, 354, 355, 356, 357, 358, 359, 360, 361, 362, 363, 364, 365, 366, 367, 368, 369, 370, 371, 372, 373, 374, 375, 376, 377, 378, 379, 380, 381, 382, 383, 384, 385, 386, 387, 388, 389, 390, 391, 392, 393, 394, 395, 396, 397, 398, 399, 400, 401, 402, 403, 404, 405, 406, 407, 408, 409, 410, 411, 412, 413, 414, 415, 416, 417, 418, 419, 420, 421, 422, 423, 424, 425, 426, 427, 428, 429, 430, 431, 432, 433, 434, 435, 436, 437, 438, 439, 440, 441, 442, 443, 444, 445, 446, 447, 448, 449, 450, 451, 452, 453, 454, 455, 456, 457, 458, 459, 460, 461, 462, 463, 464, 465, 466, 467, 468, 469, 470, 471, 472, 473, 474, 475, 476, 477, 478, 479, 480, 481, 482, 483, 484, 485, 486, 487, 488, 489, 490, 491, 492, 493, 494, 495, 496, 497, 498, 499, 500, 501, 502, 503, 504, 505, 506, 507, 508, 509, 510, 511, 512, 513, 514, 515, 516, 517, 518, 519, 520, 521, 522, 523, 524, 525, 526, 527, 528, 529, 530, 531, 532, 533, 534, 535, 536, 537, 538, 539, 540, 541, 542, 543, 544, 545, 546, 547, 548, 549, 550, 551, 552, 553, 554, 555, 556, 557, 558, 559, 560, 561, 562, 563, 564, 565, 566, 567, 568, 569, 570, 571, 572, 573, 574, 575, 576, 577, 578, 579, 580, 581, 582, 583, 584, 585, 586, 587, 588, 589, 590, 591, 592, 593, 594, 595, 596, 597, 598, 599, 600, 601, 602, 603, 604, 605, 606, 607, 608, 609, 610, 611, 612, 613, 614, 615, 616, 617, 618, 619, 620, 621, 622, 623, 624, 625, 626, 627, 628, 629, 630, 631, 632, 633, 634, 635, 636, 637, 638, 639, 640, 641, 642, 643, 644, 645, 646, 647, 648, 649, 650, 651, 652, 653, 654, 655, 656, 657, 658, 659, 660, 661, 662, 663, 664, 665, 666, 667, 668, 669, 670, 671, 672, 673, 674, 675, 676, 677, 678, 679, 680, 681, 682, 683, 684, 685, 686, 687, 688, 689, 690, 691, 692, 693, 694, 695, 696, 697, 698, 699, 700, 701, 702, 703, 704, 705, 706, 707, 708, 709, 710, 711, 712, 713, 714, 715, 716, 717, 718, 719, 720, 721, 722, 723, 724, 725, 726, 727, 728, 729, 730, 731, 732, 733, 734, 735, 736, 737, 738, 739, 740, 741, 742, 743, 744, 745, 746, 747, 748, 749, 750, 751, 752, 753, 754, 755, 756, 757, 758, 759, 760, 761, 762, 763, 764, 765, 766, 767, 768, 769, 770, 771, 772, 773, 774, 775, 776, 777, 778, 779, 780, 781, 782, 783, 784, 785, 786, 787, 788])\n"
     ]
    }
   ],
   "source": [
    "import numpy as np\n",
    "print(np.max(to.get_mjds().value)) # This does the same thing as to['mjd'] but returns it as an array -- useful\n",
    "x= np.array(to.get_flag_value('be'))\n",
    "print(x[0])\n",
    "y = x[0] == 'GASP'\n",
    "print(to[y].get_flag_value('f'))"
   ]
  },
  {
   "cell_type": "code",
   "execution_count": 4,
   "id": "7eb99fb4-9ea0-4a30-84bc-0dd6f0a15a2c",
   "metadata": {},
   "outputs": [
    {
     "name": "stdout",
     "output_type": "stream",
     "text": [
      "a\n",
      "53275.31548929211\n",
      "[53267.18325418 53292.17590545 53347.9916923  53355.99360681\n",
      " 53448.72464787 53838.40942348 53858.34509076 53889.27333475\n",
      " 53918.18190948 53980.01497833 54064.78972481 54101.6793083\n",
      " 54374.93208095 54429.79951559 54465.68009072 54642.2009048\n",
      " 54768.86311156 54916.4449603  55094.94341097 55154.78438437\n",
      " 55214.61832738]\n",
      "[   8.13223512   16.86041616   72.67620301   80.67811752  173.40915858\n",
      "  563.09393419  583.02960147  613.95784546  642.86642019  704.69948904\n",
      "  789.47423551  826.36381901 1099.61659166 1154.4840263  1190.36460143\n",
      " 1366.88541551 1493.54762227 1641.12947101 1819.62792168 1879.46889507\n",
      " 1939.30283809]\n"
     ]
    }
   ],
   "source": [
    "toas = to\n",
    "bes = np.array(toas.get_flag_value('be')[0])  # backend flag\n",
    "group_width = 0.1\n",
    " \n",
    "# Only consider GASP data before the GUPPI range (PUPPI came later)\n",
    "end_gasp_era = min(toas[bes == 'GUPPI'].get_mjds().value)               # --> end of GASP range is minimum GUPPI\n",
    "mjds = toas.get_mjds().value\n",
    "toas = toas[(mjds < end_gasp_era) & (bes == 'GASP')] # --> getting all TOAs before end of the GASP era that used the GASP backend\n",
    "mjds = mjds[(mjds < end_gasp_era) & (bes == 'GASP')] # --> getting corresponding MJDs\n",
    " \n",
    "# Initialize lists to be returned\n",
    "low_mjds, high_mjds = [], []  # low and high MJDs (bin edges), respectively\n",
    " \n",
    "# Pair up high and low frequency GASP observations                     --> do we need to separate out high & low frequency for CHIME?? if not, can we use obs?\n",
    "febes = np.array(toas.get_flag_value('f')[0])  # frontend_backend flag\n",
    " \n",
    " \n",
    "# these two lines just get the list of TOAs defining the new bins (for both channels/backends, since those are important for GASP), only considering gasp\n",
    "low_obs_mjds = du.group_dates(toas[febes == 'Rcvr_800_GASP'], group_width) # --> group_dates \"Returns MJDs of groups of TOAs no wider than a specified amount.\"\n",
    "high_obs_mjds = du.group_dates(toas[febes == 'Rcvr1_2_GASP'], group_width)\n",
    "\n",
    "#print(low_obs_mjds)\n",
    "#print(high_obs_mjds)\n",
    "# subtracts the array of mjds, which are just gasp mjds, from the newly grouped dates? don't understand how arrays are the same size\n",
    "iclosest_high = [abs(mjd-high_obs_mjds).argmin() for mjd in low_obs_mjds] \n",
    "# shape is being broadcast -- mjd is a number, high_obs_mjds is an array\n",
    "# subtracting array from mjd broadcasts mjd across it all\n",
    "# argmin finds the index of smallest difference between the mjd being looked at and each high mjd\n",
    "\n",
    "iaaa = [mjds for mjd in low_obs_mjds] \n",
    "\n",
    "\n",
    "print('a')\n",
    "print(low_obs_mjds[0])\n",
    "print(high_obs_mjds)\n",
    "print(abs(low_obs_mjds[0] - high_obs_mjds))\n",
    "# --> argmin() returns the *index* of the lowest vaue\n",
    "iclosest_low = [abs(mjd-low_obs_mjds).argmin() for mjd in high_obs_mjds]\n",
    "\n",
    "\n",
    "\n",
    "#print(iclosest_high)"
   ]
  },
  {
   "cell_type": "code",
   "execution_count": 5,
   "id": "bd627cb4-a3e4-4527-8719-e361b030f193",
   "metadata": {},
   "outputs": [
    {
     "ename": "NameError",
     "evalue": "name 'ilow' is not defined",
     "output_type": "error",
     "traceback": [
      "\u001b[0;31m---------------------------------------------------------------------------\u001b[0m",
      "\u001b[0;31mNameError\u001b[0m                                 Traceback (most recent call last)",
      "Cell \u001b[0;32mIn[5], line 2\u001b[0m\n\u001b[1;32m      1\u001b[0m \u001b[38;5;28;01mfor\u001b[39;00m ihigh \u001b[38;5;129;01min\u001b[39;00m \u001b[38;5;28menumerate\u001b[39m(iclosest_low):\n\u001b[0;32m----> 2\u001b[0m     \u001b[38;5;28mprint\u001b[39m(\u001b[38;5;124mf\u001b[39m\u001b[38;5;124m'\u001b[39m\u001b[38;5;124mihigh: \u001b[39m\u001b[38;5;132;01m{\u001b[39;00mihigh\u001b[38;5;132;01m}\u001b[39;00m\u001b[38;5;124m, ilow:\u001b[39m\u001b[38;5;132;01m{\u001b[39;00milow\u001b[38;5;132;01m}\u001b[39;00m\u001b[38;5;124m'\u001b[39m)\n",
      "\u001b[0;31mNameError\u001b[0m: name 'ilow' is not defined"
     ]
    }
   ],
   "source": [
    "\n",
    "for ihigh in enumerate(iclosest_low):\n",
    "    print(f'ihigh: {ihigh}, ilow:{ilow}')"
   ]
  },
  {
   "cell_type": "code",
   "execution_count": null,
   "id": "5347467f-e6ee-4d65-9300-750119301b1e",
   "metadata": {},
   "outputs": [],
   "source": [
    "bin_width = 1.0\n",
    "pad = 0.0\n",
    "strict_inclusion = True\n",
    "check = True\n",
    "toas = to\n",
    "\n",
    " # Order the MJDs\n",
    "mjds = toas.get_mjds().value\n",
    "isort = mjds.argsort()\n",
    "mjds = mjds[isort] # --> just all of the TOAs in order (they aren't automatically in order)\n",
    "\n",
    "# Initialize lists to be returned\n",
    "low_mjds, high_mjds = [], []  # low and high MJDs (bin edges), respectively\n",
    "\n",
    "# Now step through the MJDs, starting with the first (earliest)\n",
    "remaining_mjds = np.copy(mjds) # --> for later\n",
    "while(len(remaining_mjds)):\n",
    "    left_bin_edge = remaining_mjds.min() - pad # --> logical, left bin edge is just the minimum MJD in the remaining set of MJDs\n",
    "\n",
    "    if strict_inclusion: left_bin_edge -= 1e-11  # ~1 us # --> make the left bin edge inclusive rather than exclusive\n",
    " \n",
    "    right_bin_edge = left_bin_edge + bin_width + pad # --> same logic as left edge\n",
    "    \n",
    "    if strict_inclusion: right_bin_edge += 1e-11  # ~1 us --> =\n",
    "    print(f'Original right bin edge: {right_bin_edge}')\n",
    "\n",
    "    in_bin = (left_bin_edge <= remaining_mjds) & \\\n",
    "            (remaining_mjds <= right_bin_edge) # --> create a mask that grabs only those which are in bin\n",
    "\n",
    "    not_in_bin = np.logical_not(in_bin)  # currently not used --> okay lol\n",
    "\n",
    "    print(remaining_mjds[in_bin])\n",
    "    \n",
    "    right_bin_edge = remaining_mjds[in_bin].max() + pad # shrink bin --> I guess this step makes sure everything is actually inside bin?\n",
    "    print(f'Final right bin edge: {right_bin_edge}\\n')\n",
    "    \n",
    "    if strict_inclusion: right_bin_edge += 1e-11  # ~1 us\n",
    "    if np.any(in_bin):  # this should always be True\n",
    "        low_mjds.append(left_bin_edge)\n",
    "        high_mjds.append(right_bin_edge)\n",
    "        not_accounted_for = remaining_mjds > right_bin_edge\n",
    "    else:\n",
    "        msg = \"No TOAs in proposed DMX bin. Something is wrong.\"\n",
    "        log.warning(msg)\n",
    "    # Update remaining TOA MJDs\n",
    "    remaining_mjds = remaining_mjds[not_accounted_for]"
   ]
  }
 ],
 "metadata": {
  "kernelspec": {
   "display_name": "Python 3 (ipykernel)",
   "language": "python",
   "name": "python3"
  },
  "language_info": {
   "codemirror_mode": {
    "name": "ipython",
    "version": 3
   },
   "file_extension": ".py",
   "mimetype": "text/x-python",
   "name": "python",
   "nbconvert_exporter": "python",
   "pygments_lexer": "ipython3",
   "version": "3.9.18"
  }
 },
 "nbformat": 4,
 "nbformat_minor": 5
}
