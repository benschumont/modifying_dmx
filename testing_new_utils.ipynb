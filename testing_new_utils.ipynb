{
 "cells": [
  {
   "cell_type": "markdown",
   "metadata": {},
   "source": [
    "# \\[set-up\\], imports\n",
    "Reminder (if working on the notebook server): make sure your copy of `pint_pal` is up to date and you're working on a development branch, e.g. `psr/J1234+5678/jks`. See README for more details. If not working on the notebook server, you may need to update required software packages (`pint`, `enterprise`, `enterprise_extensions`) according to requirements in `setup.py`."
   ]
  },
  {
   "cell_type": "code",
   "execution_count": 1,
   "metadata": {},
   "outputs": [
    {
     "name": "stdout",
     "output_type": "stream",
     "text": [
      "Intel MKL WARNING: Support of Intel(R) Streaming SIMD Extensions 4.2 (Intel(R) SSE4.2) enabled only processors has been deprecated. Intel oneAPI Math Kernel Library 2025.0 will require Intel(R) Advanced Vector Extensions (Intel(R) AVX) instructions.\n",
      "Intel MKL WARNING: Support of Intel(R) Streaming SIMD Extensions 4.2 (Intel(R) SSE4.2) enabled only processors has been deprecated. Intel oneAPI Math Kernel Library 2025.0 will require Intel(R) Advanced Vector Extensions (Intel(R) AVX) instructions.\n",
      "Warning: cannot find astropy, units support will not be available.\n"
     ]
    }
   ],
   "source": [
    "import os\n",
    "import sys\n",
    "import datetime\n",
    "\n",
    "\n",
    "import pint_pal.par_checker as pc\n",
    "import pint_pal.dmx_utils as du\n",
    "import pint_pal.lite_utils as lu\n",
    "import pint_pal.noise_utils as nu\n",
    "import pint_pal.plot_utils as pu\n",
    "from pint_pal.ftester import run_Ftests\n",
    "from pint_pal.utils import resid_stats, pdf_writer, apply_cut_select\n",
    "from pint_pal.utils import check_recentness_excision, check_recentness_noise\n",
    "from pint_pal.timingconfiguration import TimingConfiguration\n",
    "from astropy import log\n",
    "from pint.fitter import ConvergenceFailure\n",
    "import pint.fitter\n",
    "from pint.utils import dmxparse\n",
    "import os\n",
    "import copy\n",
    "from astropy.visualization import quantity_support\n",
    "quantity_support()\n",
    "\n",
    "# notebook gives interactive plots but not until the kernel is done\n",
    "#%matplotlib notebook\n",
    "# inline gives non-interactive plots right away\n",
    "#%matplotlib inline\n",
    "%matplotlib widget"
   ]
  },
  {
   "cell_type": "code",
   "execution_count": 2,
   "metadata": {},
   "outputs": [],
   "source": [
    "# Default assumption is that notebook is being run by hand\n",
    "autorun = False\n",
    "run_Ftest = True  # Set to False if you don't need F-tests and want a faster notebook run!\n",
    "check_excision = True\n",
    "num_noise_iter = 2e5\n",
    "\n",
    "if not autorun:\n",
    "    run_noise_analysis = False\n",
    "    use_existing_noise_dir = True\n",
    "    use_toa_pickle = False\n",
    "else:\n",
    "    run_noise_analysis = True \n",
    "    use_existing_noise_dir = False\n",
    "    use_toa_pickle = False"
   ]
  },
  {
   "cell_type": "code",
   "execution_count": 3,
   "metadata": {},
   "outputs": [
    {
     "name": "stderr",
     "output_type": "stream",
     "text": [
      "Fatal Python error: config_get_locale_encoding: failed to get the locale encoding: nl_langinfo(CODESET) failed\n",
      "Python runtime state: preinitialized\n",
      "\n"
     ]
    },
    {
     "name": "stdout",
     "output_type": "stream",
     "text": [
      "INFO: Your git config user.name is: Ben Schumont [pint_pal.lite_utils]\n",
      "INFO: ...to change this, in a terminal: git config user.name \"First Last\" [pint_pal.lite_utils]\n",
      "INFO: Your git config user.email is: benschumont@gmail.com [pint_pal.lite_utils]\n",
      "INFO: ...to change this, in a terminal: git config user.email \"first.last@nanograv.org\" [pint_pal.lite_utils]\n"
     ]
    }
   ],
   "source": [
    "log.setLevel(\"INFO\") # Set desired verbosity of log statements (DEBUG/INFO/WARNING/ERROR)\n",
    "log_to_file = False\n",
    "\n",
    "if pint.__version__ > '0.8.6':  # see https://github.com/nanograv/PINT/blob/master/CHANGELOG.md\n",
    "    pint.logging.setup(level=\"WARNING\", usecolors=True)\n",
    "\n",
    "lu.git_config_info()"
   ]
  },
  {
   "cell_type": "markdown",
   "metadata": {},
   "source": [
    "# develop/update \\[prenoise\\] timing solution\n",
    "\n",
    "Load configuration (`.yaml`) file, get TOAs and timing model; if you're running from the root of the git distribution, simply edit the `.yaml` file name, otherwise include relevant paths to the `.yaml` file, and `.par`/`.tim` directories as kwargs (see commented example)."
   ]
  },
  {
   "cell_type": "code",
   "execution_count": 4,
   "metadata": {
    "scrolled": true
   },
   "outputs": [
    {
     "name": "stdout",
     "output_type": "stream",
     "text": [
      "INFO: Par file created: 2024-02-13T17:48:03.996959 [pint_pal.timingconfiguration]\n",
      "INFO: Frontend/backend pairs present in this data set: {'Rcvr_800_GASP', 'CHIME', 'Rcvr_800_GUPPI', 'Rcvr1_2_GASP', 'Rcvr1_2_GUPPI'} [pint_pal.timingconfiguration]\n",
      "INFO: Rcvr_800_GASP files: 21 [pint_pal.timingconfiguration]\n",
      "INFO: CHIME files: 238 [pint_pal.timingconfiguration]\n",
      "INFO: Rcvr_800_GUPPI files: 126 [pint_pal.timingconfiguration]\n",
      "INFO: Rcvr1_2_GASP files: 22 [pint_pal.timingconfiguration]\n",
      "INFO: Rcvr1_2_GUPPI files: 128 [pint_pal.timingconfiguration]\n",
      "INFO: Specified TOA excision keys: {'mjd-end', 'snr-cut'} [pint_pal.timingconfiguration]\n",
      "INFO: Selecting 22342 TOAs out of 22342 (0 removed based on initial cuts, specified keys). [pint_pal.utils]\n",
      "INFO: Specified TOA excision keys: set() [pint_pal.timingconfiguration]\n",
      "INFO: Selecting 22342 TOAs out of 22342 (0 removed based on manual cuts, specified keys). [pint_pal.utils]\n",
      "INFO: Specified TOA excision keys: set() [pint_pal.timingconfiguration]\n",
      "INFO: Selecting 22342 TOAs out of 22342 (0 removed based on manual cuts, specified keys). [pint_pal.utils]\n",
      "INFO: Specified TOA excision keys: {'bad-file'} [pint_pal.timingconfiguration]\n",
      "INFO: Selecting 22342 TOAs out of 22342 (0 removed based on manual cuts, specified keys). [pint_pal.utils]\n"
     ]
    },
    {
     "name": "stderr",
     "output_type": "stream",
     "text": [
      "WARNING: bad-file entry does not match any TOAs: CHIME_J2145-0750_beam_6_58850_82144 [pint_pal.timingconfiguration]\n",
      "WARNING: bad-file entry does not match any TOAs: CHIME_J2145-0750_beam_3_58879_75304 [pint_pal.timingconfiguration]\n",
      "WARNING: bad-file entry does not match any TOAs: CHIME_J2145-0750_beam_3_59016_42983 [pint_pal.timingconfiguration]\n",
      "WARNING: bad-file entry does not match any TOAs: CHIME_J2145-0750_beam_7_59159_9315 [pint_pal.timingconfiguration]\n",
      "WARNING: bad-file entry does not match any TOAs: CHIME_J2145-0750_beam_3_58987_49826.ftp [pint_pal.timingconfiguration]\n",
      "WARNING: bad-file entry does not match any TOAs: CHIME_J2145-0750_beam_3_58987_49826.ftp [pint_pal.timingconfiguration]\n",
      "WARNING: bad-file entry does not match any TOAs: CHIME_J2145-0750_beam_2_59015_43219.ftp [pint_pal.timingconfiguration]\n",
      "WARNING: bad-file entry does not match any TOAs: CHIME_J2145-0750_beam_3_58843_83796.ftp [pint_pal.timingconfiguration]\n",
      "WARNING: bad-file entry does not match any TOAs: CHIME_J2145-0750_beam_6_58850_82144.ftp [pint_pal.timingconfiguration]\n",
      "WARNING: bad-file entry does not match any TOAs: CHIME_J2145-0750_beam_7_58839_84744.ftp [pint_pal.timingconfiguration]\n",
      "WARNING: bad-file entry does not match any TOAs: CHIME_J2145-0750_beam_7_58911_67754.ftp [pint_pal.timingconfiguration]\n",
      "WARNING: bad-file entry does not match any TOAs: CHIME_J2145-0750_beam_8_58793_9427.ftp [pint_pal.timingconfiguration]\n",
      "WARNING: bad-file entry does not match any TOAs: CHIME_J2145-0750_beam_8_58965_55014.ftp [pint_pal.timingconfiguration]\n",
      "WARNING: bad-file entry does not match any TOAs: CHIME_J2145-0750_beam_9_58873_76718.ftp [pint_pal.timingconfiguration]\n",
      "WARNING: One or more bad-file entries lack reasons for excision; please add them. [pint_pal.timingconfiguration]\n"
     ]
    }
   ],
   "source": [
    "config = \"J2145-0750-CLEANED.chime.nb.yaml\"   # fill in actual path\n",
    "par_directory = None   # default location\n",
    "tim_directory = None   # default location\n",
    "\n",
    "tc = TimingConfiguration(config, par_directory=par_directory, tim_directory=tim_directory)\n",
    "\n",
    "\n",
    "using_wideband = tc.get_toa_type() == 'WB'\n",
    "\n",
    "# Use excise.tim file if it exists, else revert to raw TOAs & initial cuts\n",
    "mo,to = tc.get_model_and_toas(excised=False,usepickle=use_toa_pickle)\n",
    "#This means mo = timing model, to = TOAs\n",
    "\n",
    "# Checks if TOAs is empty and gets them if it is\n",
    "if not to: mo,to = tc.get_model_and_toas(apply_initial_cuts=True)\n",
    "tc.manual_cuts(to)\n",
    "\n",
    "if log_to_file:\n",
    "    lu.log_notebook_to_file(tc.get_source(), tc.get_toa_type())\n",
    "    lu.log_warnings()"
   ]
  },
  {
   "cell_type": "code",
   "execution_count": 5,
   "metadata": {},
   "outputs": [],
   "source": [
    "# Computing pulse numbers ensures param changes in the model will not break phase connection\n",
    "to.compute_pulse_numbers(mo)"
   ]
  },
  {
   "cell_type": "code",
   "execution_count": 6,
   "metadata": {
    "scrolled": true
   },
   "outputs": [],
   "source": [
    "chime_bin = 20."
   ]
  },
  {
   "cell_type": "code",
   "execution_count": null,
   "metadata": {},
   "outputs": [
    {
     "name": "stdout",
     "output_type": "stream",
     "text": [
      "using local version and updating changes!!!\n",
      "getting backends\n",
      "number of chime toas: 3667\n",
      "Running CHIME\n",
      "Begin chime era: MJD 58721.31047308657\n",
      "chime mjds: 3666 TOAs starting at MJD 58721.31047310361\n",
      "chime toas: 3666 TOAs starting at MJD 58721.31047310361\n",
      "Running expand_dmx_ranges\n"
     ]
    }
   ],
   "source": [
    "%load_ext autoreload\n",
    "%autoreload 2\n",
    "import pint_pal.dmx_utils as du\n",
    "\n",
    "#to = du.setup_dmx(mo, to, frequency_ratio=tc.get_fratio(), max_delta_t=tc.get_sw_delay(), chime_bin=chime_bin)\n",
    "to = du.setup_dmx(mo, to, frequency_ratio=tc.get_fratio(), max_delta_t=tc.get_sw_delay())\n",
    "if not autorun: to.print_summary()"
   ]
  },
  {
   "cell_type": "markdown",
   "metadata": {},
   "source": [
    "Run basic checks for pulsar name, solar system ephemeris, clock correction, ecliptic coordinates, tropospheric delays, planet Shapiro delays, and if applicable, removal of Arecibo data affected by bad LO. Check that TOAs being used are from the latest `toagen` release. Also check for the appropriate number of receiver JUMPs and DMJUMPs and fix them automatically if necessary."
   ]
  },
  {
   "cell_type": "code",
   "execution_count": null,
   "metadata": {},
   "outputs": [],
   "source": [
    "pc.check_settings(mo,to)\n",
    "\n",
    "receivers = lu.get_receivers(to)\n",
    "lu.add_feJumps(mo,receivers)\n",
    "if using_wideband:\n",
    "    lu.add_feDMJumps(mo,receivers)\n",
    "pc.check_jumps(mo,receivers,toa_type=tc.get_toa_type())\n",
    "\n",
    "if not autorun: check_recentness_excision(tc)"
   ]
  },
  {
   "cell_type": "code",
   "execution_count": null,
   "metadata": {},
   "outputs": [],
   "source": [
    "# Define the fitter object and plot pre-fit residuals\n",
    "fo = tc.construct_fitter(to,mo)\n",
    "pu.plot_residuals_time(fo, colorby='obs', restype='prefit')\n",
    "if mo.is_binary:\n",
    "    pu.plot_residuals_orb(fo, colorby='obs', restype='prefit')\n",
    "if using_wideband:\n",
    "    pu.plot_dm_residuals(fo, restype='prefit')"
   ]
  },
  {
   "cell_type": "code",
   "execution_count": null,
   "metadata": {},
   "outputs": [],
   "source": [
    "fo.print_summary()"
   ]
  },
  {
   "cell_type": "markdown",
   "metadata": {},
   "source": [
    "### Check that free-params follow NANOGrav conventions, fit\n",
    "fo.model.free_params = tc.get_free_params(fo)\n",
    "lu.check_fit(fo,skip_check=tc.skip_check)\n",
    "\n",
    "try:\n",
    "    fo.fit_toas(maxiter=tc.get_niter())\n",
    "    fo.model.CHI2.value = fo.resids.chi2\n",
    "except ConvergenceFailure:\n",
    "    run_Ftest = False\n",
    "    log.warning('Failed to converge; moving on with best result, but should address before final version.')"
   ]
  },
  {
   "cell_type": "code",
   "execution_count": null,
   "metadata": {},
   "outputs": [],
   "source": [
    "# plot dmx over time and residuals \n",
    "pu.plot_dmx_time(fo)\n",
    "pu.plot_residuals_time(fo)"
   ]
  },
  {
   "cell_type": "code",
   "execution_count": null,
   "metadata": {},
   "outputs": [],
   "source": [
    "# Plot post-fit residuals, print summary of results, write prenoise solution\n",
    "pu.plot_residuals_time(fo, restype='postfit')\n",
    "if mo.is_binary:\n",
    "    pu.plot_residuals_orb(fo, restype='postfit')\n",
    "if using_wideband:\n",
    "    pu.plot_dm_residuals(fo, restype='postfit')\n",
    "import numpy as np\n",
    "\n",
    "np.save('newbin_' + str(chime_bin) + '_chi2_.npy', [chime_bin, float(fo.resids.reduced_chi2)])\n",
    "\n",
    "print(fo.resids.reduced_chi2)\n",
    "\n",
    "if not autorun: fo.print_summary()\n",
    "\n",
    "lu.check_convergence(fo)\n",
    "\n",
    "lu.write_par(fo,toatype=tc.get_toa_type(),addext='_prenoise_'+str(chime_bin),include_date=True)"
   ]
  },
  {
   "cell_type": "code",
   "execution_count": null,
   "metadata": {},
   "outputs": [],
   "source": [
    "print(float(fo.resids.reduced_chi2))"
   ]
  },
  {
   "cell_type": "code",
   "execution_count": null,
   "metadata": {},
   "outputs": [],
   "source": [
    "fo.print_summary()"
   ]
  },
  {
   "cell_type": "code",
   "execution_count": 37,
   "metadata": {},
   "outputs": [
    {
     "name": "stdout",
     "output_type": "stream",
     "text": [
      "['PSR', 'TRACK', 'EPHEM', 'CLOCK', 'UNITS', 'START', 'FINISH', 'RM', 'INFO', 'TIMEEPH', 'T2CMETHOD', 'BINARY', 'DILATEFREQ', 'DMDATA', 'NTOA', 'CHI2', 'CHI2R', 'TRES', 'DMRES', 'POSEPOCH', 'PX', 'ELONG', 'ELAT', 'PMELONG', 'PMELAT', 'ECL', 'F0', 'PEPOCH', 'F1', 'CORRECT_TROPOSPHERE', 'PLANET_SHAPIRO', 'NE_SW', 'SWP', 'SWM', 'DM', 'DM1', 'DMEPOCH', 'DMX', 'DMX_0001', 'DMXR1_0001', 'DMXR2_0001', 'DMX_0002', 'DMXR1_0002', 'DMXR2_0002', 'DMX_0003', 'DMXR1_0003', 'DMXR2_0003', 'DMX_0004', 'DMXR1_0004', 'DMXR2_0004', 'DMX_0005', 'DMXR1_0005', 'DMXR2_0005', 'DMX_0006', 'DMXR1_0006', 'DMXR2_0006', 'DMX_0007', 'DMXR1_0007', 'DMXR2_0007', 'DMX_0008', 'DMXR1_0008', 'DMXR2_0008', 'DMX_0009', 'DMXR1_0009', 'DMXR2_0009', 'DMX_0010', 'DMXR1_0010', 'DMXR2_0010', 'DMX_0011', 'DMXR1_0011', 'DMXR2_0011', 'DMX_0012', 'DMXR1_0012', 'DMXR2_0012', 'DMX_0013', 'DMXR1_0013', 'DMXR2_0013', 'DMX_0014', 'DMXR1_0014', 'DMXR2_0014', 'DMX_0015', 'DMXR1_0015', 'DMXR2_0015', 'DMX_0016', 'DMXR1_0016', 'DMXR2_0016', 'DMX_0017', 'DMXR1_0017', 'DMXR2_0017', 'DMX_0018', 'DMXR1_0018', 'DMXR2_0018', 'DMX_0019', 'DMXR1_0019', 'DMXR2_0019', 'DMX_0020', 'DMXR1_0020', 'DMXR2_0020', 'DMX_0021', 'DMXR1_0021', 'DMXR2_0021', 'DMX_0022', 'DMXR1_0022', 'DMXR2_0022', 'DMX_0023', 'DMXR1_0023', 'DMXR2_0023', 'DMX_0024', 'DMXR1_0024', 'DMXR2_0024', 'DMX_0025', 'DMXR1_0025', 'DMXR2_0025', 'DMX_0026', 'DMXR1_0026', 'DMXR2_0026', 'DMX_0027', 'DMXR1_0027', 'DMXR2_0027', 'DMX_0028', 'DMXR1_0028', 'DMXR2_0028', 'DMX_0029', 'DMXR1_0029', 'DMXR2_0029', 'DMX_0030', 'DMXR1_0030', 'DMXR2_0030', 'DMX_0031', 'DMXR1_0031', 'DMXR2_0031', 'DMX_0032', 'DMXR1_0032', 'DMXR2_0032', 'DMX_0033', 'DMXR1_0033', 'DMXR2_0033', 'DMX_0034', 'DMXR1_0034', 'DMXR2_0034', 'DMX_0035', 'DMXR1_0035', 'DMXR2_0035', 'DMX_0036', 'DMXR1_0036', 'DMXR2_0036', 'DMX_0037', 'DMXR1_0037', 'DMXR2_0037', 'DMX_0038', 'DMXR1_0038', 'DMXR2_0038', 'DMX_0039', 'DMXR1_0039', 'DMXR2_0039', 'DMX_0040', 'DMXR1_0040', 'DMXR2_0040', 'DMX_0041', 'DMXR1_0041', 'DMXR2_0041', 'DMX_0042', 'DMXR1_0042', 'DMXR2_0042', 'DMX_0043', 'DMXR1_0043', 'DMXR2_0043', 'DMX_0044', 'DMXR1_0044', 'DMXR2_0044', 'DMX_0045', 'DMXR1_0045', 'DMXR2_0045', 'DMX_0046', 'DMXR1_0046', 'DMXR2_0046', 'DMX_0047', 'DMXR1_0047', 'DMXR2_0047', 'DMX_0048', 'DMXR1_0048', 'DMXR2_0048', 'DMX_0049', 'DMXR1_0049', 'DMXR2_0049', 'DMX_0050', 'DMXR1_0050', 'DMXR2_0050', 'DMX_0051', 'DMXR1_0051', 'DMXR2_0051', 'DMX_0052', 'DMXR1_0052', 'DMXR2_0052', 'DMX_0053', 'DMXR1_0053', 'DMXR2_0053', 'DMX_0054', 'DMXR1_0054', 'DMXR2_0054', 'DMX_0055', 'DMXR1_0055', 'DMXR2_0055', 'DMX_0056', 'DMXR1_0056', 'DMXR2_0056', 'DMX_0057', 'DMXR1_0057', 'DMXR2_0057', 'DMX_0058', 'DMXR1_0058', 'DMXR2_0058', 'DMX_0059', 'DMXR1_0059', 'DMXR2_0059', 'DMX_0060', 'DMXR1_0060', 'DMXR2_0060', 'DMX_0061', 'DMXR1_0061', 'DMXR2_0061', 'DMX_0062', 'DMXR1_0062', 'DMXR2_0062', 'DMX_0063', 'DMXR1_0063', 'DMXR2_0063', 'DMX_0064', 'DMXR1_0064', 'DMXR2_0064', 'DMX_0065', 'DMXR1_0065', 'DMXR2_0065', 'DMX_0066', 'DMXR1_0066', 'DMXR2_0066', 'DMX_0067', 'DMXR1_0067', 'DMXR2_0067', 'DMX_0068', 'DMXR1_0068', 'DMXR2_0068', 'DMX_0069', 'DMXR1_0069', 'DMXR2_0069', 'DMX_0070', 'DMXR1_0070', 'DMXR2_0070', 'DMX_0071', 'DMXR1_0071', 'DMXR2_0071', 'DMX_0072', 'DMXR1_0072', 'DMXR2_0072', 'DMX_0073', 'DMXR1_0073', 'DMXR2_0073', 'DMX_0074', 'DMXR1_0074', 'DMXR2_0074', 'DMX_0075', 'DMXR1_0075', 'DMXR2_0075', 'DMX_0076', 'DMXR1_0076', 'DMXR2_0076', 'DMX_0077', 'DMXR1_0077', 'DMXR2_0077', 'DMX_0078', 'DMXR1_0078', 'DMXR2_0078', 'DMX_0079', 'DMXR1_0079', 'DMXR2_0079', 'DMX_0080', 'DMXR1_0080', 'DMXR2_0080', 'DMX_0081', 'DMXR1_0081', 'DMXR2_0081', 'DMX_0082', 'DMXR1_0082', 'DMXR2_0082', 'DMX_0083', 'DMXR1_0083', 'DMXR2_0083', 'DMX_0084', 'DMXR1_0084', 'DMXR2_0084', 'DMX_0085', 'DMXR1_0085', 'DMXR2_0085', 'DMX_0086', 'DMXR1_0086', 'DMXR2_0086', 'DMX_0087', 'DMXR1_0087', 'DMXR2_0087', 'DMX_0088', 'DMXR1_0088', 'DMXR2_0088', 'DMX_0089', 'DMXR1_0089', 'DMXR2_0089', 'DMX_0090', 'DMXR1_0090', 'DMXR2_0090', 'DMX_0091', 'DMXR1_0091', 'DMXR2_0091', 'DMX_0092', 'DMXR1_0092', 'DMXR2_0092', 'DMX_0093', 'DMXR1_0093', 'DMXR2_0093', 'DMX_0094', 'DMXR1_0094', 'DMXR2_0094', 'DMX_0095', 'DMXR1_0095', 'DMXR2_0095', 'DMX_0096', 'DMXR1_0096', 'DMXR2_0096', 'DMX_0097', 'DMXR1_0097', 'DMXR2_0097', 'DMX_0098', 'DMXR1_0098', 'DMXR2_0098', 'DMX_0099', 'DMXR1_0099', 'DMXR2_0099', 'DMX_0100', 'DMXR1_0100', 'DMXR2_0100', 'DMX_0101', 'DMXR1_0101', 'DMXR2_0101', 'DMX_0102', 'DMXR1_0102', 'DMXR2_0102', 'DMX_0103', 'DMXR1_0103', 'DMXR2_0103', 'DMX_0104', 'DMXR1_0104', 'DMXR2_0104', 'DMX_0105', 'DMXR1_0105', 'DMXR2_0105', 'DMX_0106', 'DMXR1_0106', 'DMXR2_0106', 'DMX_0107', 'DMXR1_0107', 'DMXR2_0107', 'DMX_0108', 'DMXR1_0108', 'DMXR2_0108', 'DMX_0109', 'DMXR1_0109', 'DMXR2_0109', 'DMX_0110', 'DMXR1_0110', 'DMXR2_0110', 'DMX_0111', 'DMXR1_0111', 'DMXR2_0111', 'DMX_0112', 'DMXR1_0112', 'DMXR2_0112', 'DMX_0113', 'DMXR1_0113', 'DMXR2_0113', 'DMX_0114', 'DMXR1_0114', 'DMXR2_0114', 'DMX_0115', 'DMXR1_0115', 'DMXR2_0115', 'DMX_0116', 'DMXR1_0116', 'DMXR2_0116', 'DMX_0117', 'DMXR1_0117', 'DMXR2_0117', 'DMX_0118', 'DMXR1_0118', 'DMXR2_0118', 'DMX_0119', 'DMXR1_0119', 'DMXR2_0119', 'DMX_0120', 'DMXR1_0120', 'DMXR2_0120', 'DMX_0121', 'DMXR1_0121', 'DMXR2_0121', 'DMX_0122', 'DMXR1_0122', 'DMXR2_0122', 'DMX_0123', 'DMXR1_0123', 'DMXR2_0123', 'DMX_0124', 'DMXR1_0124', 'DMXR2_0124', 'DMX_0125', 'DMXR1_0125', 'DMXR2_0125', 'DMX_0126', 'DMXR1_0126', 'DMXR2_0126', 'DMX_0127', 'DMXR1_0127', 'DMXR2_0127', 'DMX_0128', 'DMXR1_0128', 'DMXR2_0128', 'DMX_0129', 'DMXR1_0129', 'DMXR2_0129', 'DMX_0130', 'DMXR1_0130', 'DMXR2_0130', 'DMX_0131', 'DMXR1_0131', 'DMXR2_0131', 'DMX_0132', 'DMXR1_0132', 'DMXR2_0132', 'DMX_0133', 'DMXR1_0133', 'DMXR2_0133', 'DMX_0134', 'DMXR1_0134', 'DMXR2_0134', 'DMX_0135', 'DMXR1_0135', 'DMXR2_0135', 'DMX_0136', 'DMXR1_0136', 'DMXR2_0136', 'DMX_0137', 'DMXR1_0137', 'DMXR2_0137', 'DMX_0138', 'DMXR1_0138', 'DMXR2_0138', 'DMX_0139', 'DMXR1_0139', 'DMXR2_0139', 'DMX_0140', 'DMXR1_0140', 'DMXR2_0140', 'DMX_0141', 'DMXR1_0141', 'DMXR2_0141', 'DMX_0142', 'DMXR1_0142', 'DMXR2_0142', 'DMX_0143', 'DMXR1_0143', 'DMXR2_0143', 'DMX_0144', 'DMXR1_0144', 'DMXR2_0144', 'DMX_0145', 'DMXR1_0145', 'DMXR2_0145', 'DMX_0146', 'DMXR1_0146', 'DMXR2_0146', 'DMX_0147', 'DMXR1_0147', 'DMXR2_0147', 'DMX_0148', 'DMXR1_0148', 'DMXR2_0148', 'DMX_0149', 'DMXR1_0149', 'DMXR2_0149', 'DMX_0150', 'DMXR1_0150', 'DMXR2_0150', 'DMX_0151', 'DMXR1_0151', 'DMXR2_0151', 'DMX_0152', 'DMXR1_0152', 'DMXR2_0152', 'DMX_0153', 'DMXR1_0153', 'DMXR2_0153', 'DMX_0154', 'DMXR1_0154', 'DMXR2_0154', 'DMX_0155', 'DMXR1_0155', 'DMXR2_0155', 'DMX_0156', 'DMXR1_0156', 'DMXR2_0156', 'DMX_0157', 'DMXR1_0157', 'DMXR2_0157', 'DMX_0158', 'DMXR1_0158', 'DMXR2_0158', 'DMX_0159', 'DMXR1_0159', 'DMXR2_0159', 'DMX_0160', 'DMXR1_0160', 'DMXR2_0160', 'DMX_0161', 'DMXR1_0161', 'DMXR2_0161', 'DMX_0162', 'DMXR1_0162', 'DMXR2_0162', 'DMX_0163', 'DMXR1_0163', 'DMXR2_0163', 'DMX_0164', 'DMXR1_0164', 'DMXR2_0164', 'DMX_0165', 'DMXR1_0165', 'DMXR2_0165', 'DMX_0166', 'DMXR1_0166', 'DMXR2_0166', 'DMX_0167', 'DMXR1_0167', 'DMXR2_0167', 'DMX_0168', 'DMXR1_0168', 'DMXR2_0168', 'DMX_0169', 'DMXR1_0169', 'DMXR2_0169', 'DMX_0170', 'DMXR1_0170', 'DMXR2_0170', 'DMX_0171', 'DMXR1_0171', 'DMXR2_0171', 'DMX_0172', 'DMXR1_0172', 'DMXR2_0172', 'DMX_0173', 'DMXR1_0173', 'DMXR2_0173', 'DMX_0174', 'DMXR1_0174', 'DMXR2_0174', 'DMX_0175', 'DMXR1_0175', 'DMXR2_0175', 'DMX_0176', 'DMXR1_0176', 'DMXR2_0176', 'DMX_0177', 'DMXR1_0177', 'DMXR2_0177', 'DMX_0178', 'DMXR1_0178', 'DMXR2_0178', 'DMX_0179', 'DMXR1_0179', 'DMXR2_0179', 'DMX_0180', 'DMXR1_0180', 'DMXR2_0180', 'DMX_0181', 'DMXR1_0181', 'DMXR2_0181', 'DMX_0182', 'DMXR1_0182', 'DMXR2_0182', 'DMX_0183', 'DMXR1_0183', 'DMXR2_0183', 'DMX_0184', 'DMXR1_0184', 'DMXR2_0184', 'DMX_0185', 'DMXR1_0185', 'DMXR2_0185', 'DMX_0186', 'DMXR1_0186', 'DMXR2_0186', 'DMX_0187', 'DMXR1_0187', 'DMXR2_0187', 'DMX_0188', 'DMXR1_0188', 'DMXR2_0188', 'DMX_0189', 'DMXR1_0189', 'DMXR2_0189', 'DMX_0190', 'DMXR1_0190', 'DMXR2_0190', 'DMX_0191', 'DMXR1_0191', 'DMXR2_0191', 'DMX_0192', 'DMXR1_0192', 'DMXR2_0192', 'DMX_0193', 'DMXR1_0193', 'DMXR2_0193', 'DMX_0194', 'DMXR1_0194', 'DMXR2_0194', 'DMX_0195', 'DMXR1_0195', 'DMXR2_0195', 'DMX_0196', 'DMXR1_0196', 'DMXR2_0196', 'DMX_0197', 'DMXR1_0197', 'DMXR2_0197', 'DMX_0198', 'DMXR1_0198', 'DMXR2_0198', 'DMX_0199', 'DMXR1_0199', 'DMXR2_0199', 'DMX_0200', 'DMXR1_0200', 'DMXR2_0200', 'DMX_0201', 'DMXR1_0201', 'DMXR2_0201', 'DMX_0202', 'DMXR1_0202', 'DMXR2_0202', 'DMX_0203', 'DMXR1_0203', 'DMXR2_0203', 'DMX_0204', 'DMXR1_0204', 'DMXR2_0204', 'DMX_0205', 'DMXR1_0205', 'DMXR2_0205', 'DMX_0206', 'DMXR1_0206', 'DMXR2_0206', 'DMX_0207', 'DMXR1_0207', 'DMXR2_0207', 'DMX_0208', 'DMXR1_0208', 'DMXR2_0208', 'DMX_0209', 'DMXR1_0209', 'DMXR2_0209', 'DMX_0210', 'DMXR1_0210', 'DMXR2_0210', 'DMX_0211', 'DMXR1_0211', 'DMXR2_0211', 'DMX_0212', 'DMXR1_0212', 'DMXR2_0212', 'DMX_0213', 'DMXR1_0213', 'DMXR2_0213', 'DMX_0214', 'DMXR1_0214', 'DMXR2_0214', 'DMX_0215', 'DMXR1_0215', 'DMXR2_0215', 'DMX_0216', 'DMXR1_0216', 'DMXR2_0216', 'DMX_0217', 'DMXR1_0217', 'DMXR2_0217', 'DMX_0218', 'DMXR1_0218', 'DMXR2_0218', 'DMX_0219', 'DMXR1_0219', 'DMXR2_0219', 'DMX_0220', 'DMXR1_0220', 'DMXR2_0220', 'DMX_0221', 'DMXR1_0221', 'DMXR2_0221', 'DMX_0222', 'DMXR1_0222', 'DMXR2_0222', 'DMX_0223', 'DMXR1_0223', 'DMXR2_0223', 'DMX_0224', 'DMXR1_0224', 'DMXR2_0224', 'DMX_0225', 'DMXR1_0225', 'DMXR2_0225', 'DMX_0226', 'DMXR1_0226', 'DMXR2_0226', 'DMX_0227', 'DMXR1_0227', 'DMXR2_0227', 'DMX_0228', 'DMXR1_0228', 'DMXR2_0228', 'DMX_0229', 'DMXR1_0229', 'DMXR2_0229', 'DMX_0230', 'DMXR1_0230', 'DMXR2_0230', 'DMX_0231', 'DMXR1_0231', 'DMXR2_0231', 'DMX_0232', 'DMXR1_0232', 'DMXR2_0232', 'DMX_0233', 'DMXR1_0233', 'DMXR2_0233', 'DMX_0234', 'DMXR1_0234', 'DMXR2_0234', 'DMX_0235', 'DMXR1_0235', 'DMXR2_0235', 'DMX_0236', 'DMXR1_0236', 'DMXR2_0236', 'DMX_0237', 'DMXR1_0237', 'DMXR2_0237', 'DMX_0238', 'DMXR1_0238', 'DMXR2_0238', 'DMX_0239', 'DMXR1_0239', 'DMXR2_0239', 'DMX_0240', 'DMXR1_0240', 'DMXR2_0240', 'DMX_0241', 'DMXR1_0241', 'DMXR2_0241', 'DMX_0242', 'DMXR1_0242', 'DMXR2_0242', 'DMX_0243', 'DMXR1_0243', 'DMXR2_0243', 'DMX_0244', 'DMXR1_0244', 'DMXR2_0244', 'DMX_0245', 'DMXR1_0245', 'DMXR2_0245', 'DMX_0246', 'DMXR1_0246', 'DMXR2_0246', 'DMX_0247', 'DMXR1_0247', 'DMXR2_0247', 'DMX_0248', 'DMXR1_0248', 'DMXR2_0248', 'DMX_0249', 'DMXR1_0249', 'DMXR2_0249', 'DMX_0250', 'DMXR1_0250', 'DMXR2_0250', 'DMX_0251', 'DMXR1_0251', 'DMXR2_0251', 'DMX_0252', 'DMXR1_0252', 'DMXR2_0252', 'DMX_0253', 'DMXR1_0253', 'DMXR2_0253', 'DMX_0254', 'DMXR1_0254', 'DMXR2_0254', 'DMX_0255', 'DMXR1_0255', 'DMXR2_0255', 'DMX_0256', 'DMXR1_0256', 'DMXR2_0256', 'DMX_0257', 'DMXR1_0257', 'DMXR2_0257', 'DMX_0258', 'DMXR1_0258', 'DMXR2_0258', 'DMX_0259', 'DMXR1_0259', 'DMXR2_0259', 'DMX_0260', 'DMXR1_0260', 'DMXR2_0260', 'DMX_0261', 'DMXR1_0261', 'DMXR2_0261', 'DMX_0262', 'DMXR1_0262', 'DMXR2_0262', 'DMX_0263', 'DMXR1_0263', 'DMXR2_0263', 'DMX_0264', 'DMXR1_0264', 'DMXR2_0264', 'DMX_0265', 'DMXR1_0265', 'DMXR2_0265', 'DMX_0266', 'DMXR1_0266', 'DMXR2_0266', 'DMX_0267', 'DMXR1_0267', 'DMXR2_0267', 'DMX_0268', 'DMXR1_0268', 'DMXR2_0268', 'DMX_0269', 'DMXR1_0269', 'DMXR2_0269', 'DMX_0270', 'DMXR1_0270', 'DMXR2_0270', 'DMX_0271', 'DMXR1_0271', 'DMXR2_0271', 'DMX_0272', 'DMXR1_0272', 'DMXR2_0272', 'DMX_0273', 'DMXR1_0273', 'DMXR2_0273', 'DMX_0274', 'DMXR1_0274', 'DMXR2_0274', 'DMX_0275', 'DMXR1_0275', 'DMXR2_0275', 'DMX_0276', 'DMXR1_0276', 'DMXR2_0276', 'DMX_0277', 'DMXR1_0277', 'DMXR2_0277', 'DMX_0278', 'DMXR1_0278', 'DMXR2_0278', 'DMX_0279', 'DMXR1_0279', 'DMXR2_0279', 'DMX_0280', 'DMXR1_0280', 'DMXR2_0280', 'DMX_0281', 'DMXR1_0281', 'DMXR2_0281', 'DMX_0282', 'DMXR1_0282', 'DMXR2_0282', 'DMX_0283', 'DMXR1_0283', 'DMXR2_0283', 'DMX_0284', 'DMXR1_0284', 'DMXR2_0284', 'DMX_0285', 'DMXR1_0285', 'DMXR2_0285', 'DMX_0286', 'DMXR1_0286', 'DMXR2_0286', 'DMX_0287', 'DMXR1_0287', 'DMXR2_0287', 'DMX_0288', 'DMXR1_0288', 'DMXR2_0288', 'DMX_0289', 'DMXR1_0289', 'DMXR2_0289', 'DMX_0290', 'DMXR1_0290', 'DMXR2_0290', 'DMX_0291', 'DMXR1_0291', 'DMXR2_0291', 'DMX_0292', 'DMXR1_0292', 'DMXR2_0292', 'DMX_0293', 'DMXR1_0293', 'DMXR2_0293', 'DMX_0294', 'DMXR1_0294', 'DMXR2_0294', 'DMX_0295', 'DMXR1_0295', 'DMXR2_0295', 'DMX_0296', 'DMXR1_0296', 'DMXR2_0296', 'DMX_0297', 'DMXR1_0297', 'DMXR2_0297', 'DMX_0298', 'DMXR1_0298', 'DMXR2_0298', 'DMX_0299', 'DMXR1_0299', 'DMXR2_0299', 'DMX_0300', 'DMXR1_0300', 'DMXR2_0300', 'PB', 'PBDOT', 'A1', 'A1DOT', 'EDOT', 'OMDOT', 'FB0', 'TASC', 'EPS1', 'EPS2', 'EPS1DOT', 'EPS2DOT', 'ECC', 'OM', 'H3', 'H4', 'STIGMA', 'NHARMS', 'FD1', 'FD2', 'FD3', 'FD4', 'ECORR1', 'ECORR2', 'ECORR3', 'ECORR4', 'RNAMP', 'RNIDX', 'TNREDAMP', 'TNREDGAM', 'TNREDC', 'EFAC1', 'EQUAD1', 'TNEQ1', 'EFAC2', 'EFAC3', 'EFAC4', 'EQUAD2', 'EQUAD3', 'EQUAD4', 'TZRMJD', 'TZRSITE', 'TZRFRQ', 'JUMP1', 'JUMP2']\n"
     ]
    }
   ],
   "source": [
    "print(fo.model.params)"
   ]
  },
  {
   "cell_type": "code",
   "execution_count": null,
   "metadata": {},
   "outputs": [],
   "source": [
    "x = to.table['obs'] == 'chime'\n",
    "q = to.table[x]['mjd']\n",
    "\n",
    "y = x==0\n",
    "z = to.table[y]['mjd']\n",
    "\n",
    "print(np.argmin(z))\n",
    "print(np.min(z))\n",
    "print(np.max(z))\n",
    "print(np.min(q))\n",
    "print(np.max(q))"
   ]
  },
  {
   "cell_type": "code",
   "execution_count": null,
   "metadata": {},
   "outputs": [],
   "source": [
    "from pint.toa import get_TOAs\n",
    "#t = get_TOAs(pint.config.examplefile(\"B1855+09_NANOGrav_dfg+12.tim\"), model=mo)\n",
    "t = get_TOAs(\"J2145-0750_PINT_20240213.nb.tim\", model=mo)\n",
    "print(t['mjd'])\n"
   ]
  },
  {
   "cell_type": "code",
   "execution_count": null,
   "metadata": {},
   "outputs": [],
   "source": [
    "print(np.array(t['mjd']))\n",
    "#print(t['mjd'] > 0.)"
   ]
  },
  {
   "cell_type": "code",
   "execution_count": null,
   "metadata": {},
   "outputs": [],
   "source": [
    "mjd_values = [time.value for time in t['mjd']]\n",
    "h = np.array(mjd_values) > 0.\n",
    "print(np.size(h))"
   ]
  },
  {
   "cell_type": "code",
   "execution_count": null,
   "metadata": {},
   "outputs": [],
   "source": [
    "print(np.size(to.table['obs']))\n",
    "print(mo.NTOA)"
   ]
  },
  {
   "cell_type": "markdown",
   "metadata": {},
   "source": [
    "So the model does have the same number of TOAs as the dataset, it's just a matter of matching them..."
   ]
  },
  {
   "cell_type": "code",
   "execution_count": null,
   "metadata": {},
   "outputs": [],
   "source": [
    "mo.START = 53267.183254166666\n",
    "print(mo.START)"
   ]
  },
  {
   "cell_type": "code",
   "execution_count": null,
   "metadata": {},
   "outputs": [],
   "source": []
  },
  {
   "cell_type": "markdown",
   "metadata": {},
   "source": [
    "# \\[noise\\] analysis, re-fit\n",
    "\n",
    "Noise analysis runs are required for the 15-yr v1.0 data set, using the latest available timing model and set of TOAs. If TOA excision or free parameters are changed in the `.yaml`/`.par` file(s), new noise model parameters should be generated before proceeding. Use the [prenoise] section of this notebook to improve TOA excision, ensure residuals are flat, then submit a merge request with that solution, and wait for noise results to be made available. See the \"Automatic Runs on Thorny Flats\" wiki to request new runs, or make a note for your pulsar(s) in the who-which page.\n",
    "\n",
    "We strongly discourage running noise analyses from on the notebook server, since doing so can take several hours (or days!) to complete and hogs lots of shared resources. Set `run_noise_analysis = False` unless you have a good reason to do otherwise."
   ]
  },
  {
   "cell_type": "code",
   "execution_count": null,
   "metadata": {},
   "outputs": [],
   "source": [
    "noise_dir = None   # fill in directory name here if appropriate\n",
    "compare_noise_dir = None   # fill in directory name here if appropriate\n",
    "fo_noise = fo      # fallback in case the noise model can't be found\n",
    "if noise_dir is not None:\n",
    "    tc.config['intermediate-results']['noise-dir'] = noise_dir\n",
    "if compare_noise_dir is not None:\n",
    "    tc.config['intermediate-results']['compare-noise-dir'] = compare_noise_dir\n",
    "print(f\"Looking for noise chains in {tc.get_noise_dir()}\")"
   ]
  },
  {
   "cell_type": "code",
   "execution_count": null,
   "metadata": {},
   "outputs": [],
   "source": [
    "if not autorun: check_recentness_noise(tc);"
   ]
  },
  {
   "cell_type": "markdown",
   "metadata": {},
   "source": [
    "If `run_noise_analysis = True`, perform noise modeling using enterprise and enterprise_extensions; this cell will take a long time to run. Status can be monitored once modeling is 1% complete. New noise parameters will be added to the timing model if there are existing results or `model_noise` is run. Redefine the fitter object (`fo`), now with noise parameters, and re-fit."
   ]
  },
  {
   "cell_type": "code",
   "execution_count": null,
   "metadata": {},
   "outputs": [],
   "source": [
    "if run_noise_analysis or use_existing_noise_dir:\n",
    "    mo_new = copy.deepcopy(mo)\n",
    "    lu.remove_noise(mo_new)\n",
    "    nu.model_noise(mo_new, to, using_wideband = using_wideband, run_noise_analysis = run_noise_analysis, n_iter = num_noise_iter)\n",
    "    try:\n",
    "        mo_new = nu.add_noise_to_model(mo_new, using_wideband = using_wideband, base_dir=tc.get_noise_dir(), \n",
    "                                       compare_dir=tc.get_compare_noise_dir(), no_corner_plot=tc.get_no_corner())\n",
    "        \n",
    "    except OSError as e:\n",
    "        log.warning(f\"Unable to read noise chains from {tc.get_noise_dir()}: {e}\")\n",
    "    else:\n",
    "        mo = mo_new\n",
    "        fo_noise = tc.construct_fitter(to,mo)\n",
    "        fo_noise.model.free_params = tc.get_free_params(fo_noise)\n",
    "        \n",
    "        try:\n",
    "            fo_noise.fit_toas(maxiter=tc.get_niter())\n",
    "            fo_noise.model.CHI2.value = fo_noise.resids.chi2\n",
    "        except ConvergenceFailure:\n",
    "            run_Ftest = False\n",
    "            log.warning('Failed to converge; moving on with best result, but should address before final version.')\n",
    "        \n",
    "        pu.plot_residuals_time(fo_noise, restype='postfit')\n",
    "        if mo.is_binary:\n",
    "            pu.plot_residuals_orb(fo_noise, restype='postfit')\n",
    "        if not autorun: fo_noise.print_summary()"
   ]
  },
  {
   "cell_type": "code",
   "execution_count": null,
   "metadata": {},
   "outputs": [],
   "source": [
    "# write par, tim, dmx files\n",
    "outpar = None  # None leads to default string value\n",
    "lu.write_par(fo_noise,toatype=tc.get_toa_type(),outfile=outpar,include_date=True)\n",
    "\n",
    "to.table = to.orig_table # resurrect cut TOAs to write, commented\n",
    "fo_cuts = tc.construct_fitter(to,mo)\n",
    "outtim = None  # None leads to default string value\n",
    "lu.write_tim(fo_cuts,toatype=tc.get_toa_type(),outfile=outtim,commentflag='cut')\n",
    "apply_cut_select(to,reason='resumption after write_tim') # de-select cut TOAs once again\n",
    "\n",
    "dmx_dict = dmxparse(fo_noise, save=\"dmxparse.out\")  # requires DMX bins in model to run properly"
   ]
  },
  {
   "cell_type": "markdown",
   "metadata": {},
   "source": [
    "# check [excision] results"
   ]
  },
  {
   "cell_type": "markdown",
   "metadata": {},
   "source": [
    "Check the percentage of good TOAs compared to automatically and manually excised TOAs. An excision \"donut\" plot will be included in the notebook as well as a warning if lots of TOAs have been excised."
   ]
  },
  {
   "cell_type": "code",
   "execution_count": null,
   "metadata": {},
   "outputs": [],
   "source": [
    "cuts_dict = None\n",
    "if check_excision:\n",
    "    cuts_dict = lu.cut_summary(to, tc, print_summary=True, save=True)\n",
    "    lu.plot_cuts_all_backends(to, save=True, using_wideband=using_wideband, source_name=tc.get_source())\n",
    "    lu.highlight_cut_resids(to, mo, tc, ylim_good=True, save=True)"
   ]
  },
  {
   "cell_type": "markdown",
   "metadata": {},
   "source": [
    "# \\[compare\\] to previous timing model\n",
    "\n",
    "Compare post-fit model to `compare-model` (or pre-fit model, if `compare-model` is not specified in the `.yaml` file). Use `?mo.compare` for more information about verbosity options."
   ]
  },
  {
   "cell_type": "code",
   "execution_count": null,
   "metadata": {},
   "outputs": [],
   "source": [
    "lu.compare_models(fo_noise,\n",
    "               model_to_compare=tc.get_compare_model(),\n",
    "               verbosity='check',\n",
    "               nodmx=True,\n",
    "               threshold_sigma=3.)"
   ]
  },
  {
   "cell_type": "markdown",
   "metadata": {},
   "source": [
    "# check parameter \\[significance\\]\n",
    "\n",
    "Get information on the weighted (W)RMS residuals per backend. Set `epoch_avg = True` to get the (W)RMS of the epoch-averaged residuals (does not work for wideband analysis; the timing model must have `ECORR` in order for epoch averaging to work). Set `whitened = True` to get the (W)RMS of the whitened residuals. Set both to `True` to get the (W)RMS of the whitened, epoch-averaged residuals.\n",
    "\n",
    "For wideband analysis, set `dm_stats = True` to also return the (W)RMS of the DM residuals."
   ]
  },
  {
   "cell_type": "code",
   "execution_count": null,
   "metadata": {},
   "outputs": [],
   "source": [
    "dm_dict = None\n",
    "epoch_avg = 'ecorr_noise' in fo_noise.model.get_components_by_category()\n",
    "if not using_wideband:\n",
    "    rs_dict = resid_stats(fo_noise, \n",
    "                          epoch_avg=epoch_avg,\n",
    "                          whitened=True, \n",
    "                          print_pretty=True)\n",
    "else:\n",
    "    rs_dict, dm_dict = resid_stats(fo_noise, \n",
    "                                   whitened=True, \n",
    "                                   dm_stats=True, \n",
    "                                   print_pretty=True)"
   ]
  },
  {
   "cell_type": "markdown",
   "metadata": {},
   "source": [
    "Run F-tests to check significance of existing/new parameters; `alpha` is the p-value threshold for rejecting the null hypothesis that a parameter is not significant. This cell may take 5-10 minutes to run. "
   ]
  },
  {
   "cell_type": "code",
   "execution_count": null,
   "metadata": {},
   "outputs": [],
   "source": [
    "Ftest_dict = None\n",
    "if run_Ftest:\n",
    "    savedLevel = log.getEffectiveLevel()\n",
    "    try:\n",
    "        log.setLevel(\"WARNING\")\n",
    "        Ftest_dict = run_Ftests(fo_noise, \n",
    "                                alpha=0.0027, \n",
    "                                NITS=tc.get_niter())\n",
    "    finally:\n",
    "        log.setLevel(savedLevel)"
   ]
  },
  {
   "cell_type": "markdown",
   "metadata": {},
   "source": [
    "# generate \\[summary\\] pdf\n",
    "\n",
    "Generate summary plots required for pdf summaries. Note: this cell will output white space for the plots, but will save them and incorporate them into the pdf summaries appropriately."
   ]
  },
  {
   "cell_type": "code",
   "execution_count": null,
   "metadata": {},
   "outputs": [],
   "source": [
    "if not using_wideband:\n",
    "    pu.plots_for_summary_pdf_nb(fo_noise)\n",
    "else:\n",
    "    pu.plots_for_summary_pdf_wb(fo_noise)"
   ]
  },
  {
   "cell_type": "code",
   "execution_count": null,
   "metadata": {},
   "outputs": [],
   "source": [
    "PARFILE = os.path.join(tc.par_directory,tc.config[\"timing-model\"])\n",
    "pdf_writer(fo, PARFILE, rs_dict, \n",
    "           Ftest_dict=Ftest_dict, \n",
    "           dm_dict=dm_dict, \n",
    "           previous_parfile=tc.get_compare_model(), \n",
    "           fitter_noise=fo_noise,\n",
    "           cuts_dict=cuts_dict,\n",
    "           no_corner=tc.get_no_corner())"
   ]
  },
  {
   "cell_type": "markdown",
   "metadata": {},
   "source": [
    "# \\[changelog\\] entries\n",
    "\n",
    "New changelog entries in the `.yaml` file should follow a specific format and are only added for specified reasons (excising TOAs, adding/removing params, changing binary models, etc.). For more detailed instructions, run `lu.new_changelog_entry?` in a new cell. This function can be used to format your entry, which should be added to the bottom of the appropriate `.yaml` file. Note: make sure your git `user.email` is properly configured, since this field is used to add your name to the entry."
   ]
  },
  {
   "cell_type": "code",
   "execution_count": null,
   "metadata": {},
   "outputs": [],
   "source": []
  }
 ],
 "metadata": {
  "kernelspec": {
   "display_name": "Python 3 (ipykernel)",
   "language": "python",
   "name": "python3"
  },
  "language_info": {
   "codemirror_mode": {
    "name": "ipython",
    "version": 3
   },
   "file_extension": ".py",
   "mimetype": "text/x-python",
   "name": "python",
   "nbconvert_exporter": "python",
   "pygments_lexer": "ipython3",
   "version": "3.9.18"
  }
 },
 "nbformat": 4,
 "nbformat_minor": 4
}
